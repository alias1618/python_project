{
 "cells": [
  {
   "cell_type": "code",
   "execution_count": 1,
   "id": "060bf342",
   "metadata": {},
   "outputs": [
    {
     "data": {
      "text/plain": [
       "[]"
      ]
     },
     "execution_count": 1,
     "metadata": {},
     "output_type": "execute_result"
    }
   ],
   "source": [
    "#建立一個空的List\n",
    "empty_list = []\n",
    "empty_list"
   ]
  },
  {
   "cell_type": "code",
   "execution_count": 2,
   "id": "e0b48037",
   "metadata": {},
   "outputs": [
    {
     "data": {
      "text/plain": [
       "['星期一', '星期二', '星期三', '星期四', '星期五', '星期六', '星期日']"
      ]
     },
     "execution_count": 2,
     "metadata": {},
     "output_type": "execute_result"
    }
   ],
   "source": [
    "weekdays = ['星期一','星期二','星期三','星期四','星期五','星期六','星期日',]\n",
    "weekdays"
   ]
  },
  {
   "cell_type": "code",
   "execution_count": 3,
   "id": "dea3b6cb",
   "metadata": {},
   "outputs": [
    {
     "name": "stdout",
     "output_type": "stream",
     "text": [
      "星期一\n",
      "星期日\n"
     ]
    }
   ],
   "source": [
    "print(weekdays[0])\n",
    "print(weekdays[6])"
   ]
  },
  {
   "cell_type": "code",
   "execution_count": 4,
   "id": "f2c299e1",
   "metadata": {},
   "outputs": [
    {
     "name": "stdout",
     "output_type": "stream",
     "text": [
      "星期一\n",
      "星期二\n",
      "星期三\n",
      "星期四\n",
      "星期五\n",
      "星期六\n",
      "星期日\n"
     ]
    }
   ],
   "source": [
    "for day in weekdays:\n",
    "    print(day)"
   ]
  },
  {
   "cell_type": "code",
   "execution_count": 6,
   "id": "03ec1e96",
   "metadata": {},
   "outputs": [
    {
     "name": "stdout",
     "output_type": "stream",
     "text": [
      "星期一\n",
      "星期二\n",
      "星期三\n",
      "星期四\n",
      "星期五\n",
      "星期六\n",
      "星期日\n"
     ]
    }
   ],
   "source": [
    "for day in weekdays:\n",
    "    print(day)"
   ]
  },
  {
   "cell_type": "code",
   "execution_count": 7,
   "id": "e9d29da4",
   "metadata": {},
   "outputs": [
    {
     "name": "stdout",
     "output_type": "stream",
     "text": [
      "星期一\n",
      "星期日\n"
     ]
    }
   ],
   "source": [
    "weekdays_tuple = ('星期一', '星期二', '星期三', '星期四', '星期五', '星期六', '星期日')\n",
    "print(weekdays_tuple[0])\n",
    "print(weekdays_tuple[6])"
   ]
  },
  {
   "cell_type": "code",
   "execution_count": 8,
   "id": "40e8e1a3",
   "metadata": {},
   "outputs": [
    {
     "name": "stdout",
     "output_type": "stream",
     "text": [
      "星期一\n",
      "星期二\n",
      "星期三\n",
      "星期四\n",
      "星期五\n",
      "星期六\n",
      "星期日\n"
     ]
    }
   ],
   "source": [
    "for day in weekdays_tuple:\n",
    "    print(day)"
   ]
  },
  {
   "cell_type": "code",
   "execution_count": 9,
   "id": "23c5728c",
   "metadata": {},
   "outputs": [
    {
     "data": {
      "text/plain": [
       "('星期一', '星期二', '星期三', '星期四', '星期五', '星期六', '星期日')"
      ]
     },
     "execution_count": 9,
     "metadata": {},
     "output_type": "execute_result"
    }
   ],
   "source": [
    "weekdays_tuple"
   ]
  },
  {
   "cell_type": "code",
   "execution_count": 10,
   "id": "78966273",
   "metadata": {},
   "outputs": [
    {
     "data": {
      "text/plain": [
       "[0, 1, 2, 3, 4, 5, 6, 7, 8, 9]"
      ]
     },
     "execution_count": 10,
     "metadata": {},
     "output_type": "execute_result"
    }
   ],
   "source": [
    "#list()\n",
    "list(range(0,10))"
   ]
  },
  {
   "cell_type": "code",
   "execution_count": 11,
   "id": "bf39bdb5",
   "metadata": {},
   "outputs": [
    {
     "data": {
      "text/plain": [
       "'H'"
      ]
     },
     "execution_count": 11,
     "metadata": {},
     "output_type": "execute_result"
    }
   ],
   "source": [
    "list1 = ['H','e','l','l','o', 'W','o','r','l','d']\n",
    "list1[-10]"
   ]
  },
  {
   "cell_type": "code",
   "execution_count": 12,
   "id": "a12611e4",
   "metadata": {},
   "outputs": [
    {
     "name": "stdout",
     "output_type": "stream",
     "text": [
      "['H', 'e', 'l', 'l', 'o']\n",
      "['H', 'e', 'l', 'l', 'o']\n"
     ]
    }
   ],
   "source": [
    "#slice->取出局部的\n",
    "#取出前面5個\n",
    "print(list1[0:5])\n",
    "print(list1[:5])"
   ]
  },
  {
   "cell_type": "code",
   "execution_count": 13,
   "id": "4a5c5d3f",
   "metadata": {},
   "outputs": [
    {
     "name": "stdout",
     "output_type": "stream",
     "text": [
      "['W', 'o', 'r', 'l', 'd']\n"
     ]
    }
   ],
   "source": [
    "#取出後面5個\n",
    "print(list1[-5:])"
   ]
  },
  {
   "cell_type": "code",
   "execution_count": 14,
   "id": "afba20f4",
   "metadata": {},
   "outputs": [
    {
     "name": "stdout",
     "output_type": "stream",
     "text": [
      "[10, 20, 30]\n"
     ]
    }
   ],
   "source": [
    "#更新資料\n",
    "nums = [1, 2, 3]\n",
    "nums[0] *= 10\n",
    "nums[1] *= 10\n",
    "nums[2] *= 10\n",
    "print(nums)"
   ]
  },
  {
   "cell_type": "code",
   "execution_count": 15,
   "id": "e9a7ecdf",
   "metadata": {},
   "outputs": [
    {
     "name": "stdout",
     "output_type": "stream",
     "text": [
      "[10, 20, 30]\n"
     ]
    }
   ],
   "source": [
    "#len()\n",
    "#傳出元素數量\n",
    "nums = [1, 2, 3]\n",
    "for i in range(len(nums)):\n",
    "    nums[i] *= 10\n",
    "print(nums)"
   ]
  },
  {
   "cell_type": "code",
   "execution_count": 16,
   "id": "a0ce975b",
   "metadata": {},
   "outputs": [
    {
     "ename": "TypeError",
     "evalue": "'tuple' object does not support item assignment",
     "output_type": "error",
     "traceback": [
      "\u001b[1;31m---------------------------------------------------------------------------\u001b[0m",
      "\u001b[1;31mTypeError\u001b[0m                                 Traceback (most recent call last)",
      "Input \u001b[1;32mIn [16]\u001b[0m, in \u001b[0;36m<module>\u001b[1;34m\u001b[0m\n\u001b[0;32m      1\u001b[0m nums_tuple \u001b[38;5;241m=\u001b[39m (\u001b[38;5;241m1\u001b[39m, \u001b[38;5;241m2\u001b[39m, \u001b[38;5;241m3\u001b[39m)\n\u001b[1;32m----> 2\u001b[0m nums_tuple[\u001b[38;5;241m0\u001b[39m] \u001b[38;5;241m*\u001b[39m\u001b[38;5;241m=\u001b[39m \u001b[38;5;241m10\u001b[39m\n",
      "\u001b[1;31mTypeError\u001b[0m: 'tuple' object does not support item assignment"
     ]
    }
   ],
   "source": [
    "#tuple  不能更改所以會出錯\n",
    "nums_tuple = (1, 2, 3)\n",
    "nums_tuple[0] *= 10"
   ]
  },
  {
   "cell_type": "code",
   "execution_count": 17,
   "id": "5db8dae0",
   "metadata": {},
   "outputs": [
    {
     "data": {
      "text/plain": [
       "[50,\n",
       " 100,\n",
       " 150,\n",
       " 200,\n",
       " 250,\n",
       " 300,\n",
       " 350,\n",
       " 400,\n",
       " 450,\n",
       " 500,\n",
       " 550,\n",
       " 600,\n",
       " 650,\n",
       " 700,\n",
       " 750,\n",
       " 800,\n",
       " 850,\n",
       " 900,\n",
       " 950]"
      ]
     },
     "execution_count": 17,
     "metadata": {},
     "output_type": "execute_result"
    }
   ],
   "source": [
    "#新增元素\n",
    "data = list(range(10,1000,10))\n",
    "receiveData = []\n",
    "\n",
    "for item in data:\n",
    "    if item % 25 == 0:\n",
    "        receiveData.append(item)\n",
    "receiveData"
   ]
  },
  {
   "cell_type": "code",
   "execution_count": 18,
   "id": "c4939601",
   "metadata": {},
   "outputs": [
    {
     "data": {
      "text/plain": [
       "list"
      ]
     },
     "execution_count": 18,
     "metadata": {},
     "output_type": "execute_result"
    }
   ],
   "source": [
    "#新增元素\n",
    "data = list(range(10,1000,10))\n",
    "receiveData = []\n",
    "\n",
    "for item in data:\n",
    "    if item % 25 == 0:\n",
    "        receiveData.append(item)\n",
    "receiveData.__class__"
   ]
  },
  {
   "cell_type": "code",
   "execution_count": 19,
   "id": "d8f9de9d",
   "metadata": {},
   "outputs": [
    {
     "data": {
      "text/plain": [
       "'洗衣機'"
      ]
     },
     "execution_count": 19,
     "metadata": {},
     "output_type": "execute_result"
    }
   ],
   "source": [
    "#2維list\n",
    "nb = ['筆記電腦', '商用筆電']\n",
    "mobile = ['APPLE', 'ASUS', 'HTC'] \n",
    "home = [3, '冰箱', 2, '洗衣機']\n",
    "all3c = [nb, mobile, home]\n",
    "\n",
    "all3c[1][2]\n",
    "all3c[2][3]"
   ]
  },
  {
   "cell_type": "code",
   "execution_count": 20,
   "id": "d0113c9f",
   "metadata": {},
   "outputs": [
    {
     "name": "stdout",
     "output_type": "stream",
     "text": [
      "筆記電腦\n",
      "商用筆電\n",
      "=====\n",
      "APPLE\n",
      "ASUS\n",
      "HTC\n",
      "=====\n",
      "3\n",
      "冰箱\n",
      "2\n",
      "洗衣機\n",
      "=====\n"
     ]
    }
   ],
   "source": [
    "for items in all3c:\n",
    "    for item in items:\n",
    "        print(item)\n",
    "    print(\"=====\")"
   ]
  },
  {
   "cell_type": "code",
   "execution_count": 21,
   "id": "7bbfdf12",
   "metadata": {},
   "outputs": [
    {
     "data": {
      "text/plain": [
       "[[68, 83, 93, 69, 75],\n",
       " [66, 92, 93, 98, 93],\n",
       " [83, 71, 71, 81, 73],\n",
       " [68, 80, 79, 75, 83],\n",
       " [92, 91, 87, 100, 80],\n",
       " [83, 76, 71, 84, 97],\n",
       " [60, 79, 97, 67, 76],\n",
       " [99, 90, 97, 64, 71],\n",
       " [92, 90, 87, 62, 100],\n",
       " [78, 63, 86, 84, 100],\n",
       " [73, 67, 91, 86, 70],\n",
       " [85, 97, 70, 88, 73],\n",
       " [87, 72, 71, 90, 66],\n",
       " [66, 66, 91, 84, 87],\n",
       " [77, 78, 62, 85, 99],\n",
       " [75, 97, 60, 82, 79],\n",
       " [73, 93, 85, 89, 74],\n",
       " [89, 64, 87, 71, 66],\n",
       " [99, 96, 92, 64, 99],\n",
       " [92, 81, 98, 81, 76],\n",
       " [92, 92, 97, 83, 82],\n",
       " [64, 79, 68, 85, 62],\n",
       " [71, 62, 80, 72, 98],\n",
       " [62, 95, 99, 77, 76],\n",
       " [94, 97, 97, 81, 76],\n",
       " [81, 84, 95, 93, 83],\n",
       " [94, 69, 79, 75, 96],\n",
       " [78, 94, 68, 64, 91],\n",
       " [72, 100, 66, 82, 62],\n",
       " [64, 81, 64, 74, 80],\n",
       " [99, 85, 79, 97, 85],\n",
       " [79, 69, 97, 100, 87],\n",
       " [99, 97, 87, 66, 60],\n",
       " [88, 85, 86, 83, 87],\n",
       " [78, 71, 81, 78, 74],\n",
       " [92, 79, 83, 96, 87],\n",
       " [65, 96, 100, 71, 95],\n",
       " [76, 80, 89, 84, 68],\n",
       " [77, 63, 92, 73, 65],\n",
       " [93, 69, 87, 90, 69],\n",
       " [97, 82, 70, 78, 72],\n",
       " [92, 89, 76, 73, 92],\n",
       " [82, 82, 92, 93, 86],\n",
       " [86, 88, 62, 94, 73],\n",
       " [74, 86, 71, 96, 79],\n",
       " [86, 99, 94, 82, 92],\n",
       " [87, 65, 60, 91, 70],\n",
       " [94, 67, 91, 67, 66],\n",
       " [83, 60, 78, 71, 95],\n",
       " [89, 61, 72, 63, 60]]"
      ]
     },
     "execution_count": 21,
     "metadata": {},
     "output_type": "execute_result"
    }
   ],
   "source": [
    "#50個學生,5個分數\n",
    "import random\n",
    "\n",
    "students = []\n",
    "for i in range(50):\n",
    "    scores =[]\n",
    "    for j in range(5):\n",
    "        scores.append(random.randint(60,100))\n",
    "    students.append(scores)\n",
    "\n",
    "students"
   ]
  },
  {
   "cell_type": "code",
   "execution_count": 22,
   "id": "aa4bf7ff",
   "metadata": {},
   "outputs": [
    {
     "data": {
      "text/plain": [
       "[[64, 99, 63, 97, 74],\n",
       " [88, 90, 75, 71, 77],\n",
       " [95, 95, 78, 74, 60],\n",
       " [87, 75, 68, 87, 73],\n",
       " [79, 75, 97, 83, 62],\n",
       " [68, 74, 90, 62, 66],\n",
       " [94, 61, 96, 97, 89],\n",
       " [93, 92, 81, 95, 70],\n",
       " [68, 73, 65, 88, 85],\n",
       " [87, 90, 89, 92, 66],\n",
       " [88, 84, 99, 96, 67],\n",
       " [65, 84, 79, 69, 98],\n",
       " [68, 88, 97, 64, 66],\n",
       " [90, 72, 91, 86, 64],\n",
       " [65, 80, 87, 74, 90],\n",
       " [76, 71, 66, 75, 75],\n",
       " [80, 77, 71, 97, 71],\n",
       " [96, 76, 81, 79, 90],\n",
       " [90, 86, 60, 73, 67],\n",
       " [81, 93, 79, 95, 73],\n",
       " [65, 78, 96, 65, 87],\n",
       " [60, 65, 81, 64, 78],\n",
       " [71, 78, 68, 73, 91],\n",
       " [76, 82, 89, 64, 67],\n",
       " [83, 93, 98, 61, 93],\n",
       " [66, 94, 93, 70, 87],\n",
       " [90, 68, 95, 81, 66],\n",
       " [64, 77, 84, 65, 96],\n",
       " [92, 74, 98, 91, 72],\n",
       " [77, 70, 64, 63, 87],\n",
       " [92, 76, 78, 72, 73],\n",
       " [67, 63, 95, 67, 76],\n",
       " [61, 70, 61, 97, 91],\n",
       " [64, 79, 81, 60, 64],\n",
       " [86, 99, 99, 78, 71],\n",
       " [97, 70, 96, 90, 75],\n",
       " [63, 80, 94, 78, 66],\n",
       " [68, 77, 60, 86, 82],\n",
       " [70, 70, 76, 98, 78],\n",
       " [77, 78, 89, 75, 82],\n",
       " [66, 83, 71, 80, 71],\n",
       " [75, 78, 70, 66, 69],\n",
       " [91, 94, 92, 83, 99],\n",
       " [73, 61, 76, 75, 82],\n",
       " [81, 87, 77, 83, 92],\n",
       " [64, 74, 67, 69, 95],\n",
       " [64, 80, 78, 61, 96],\n",
       " [71, 85, 87, 95, 78],\n",
       " [82, 77, 64, 64, 70],\n",
       " [68, 97, 89, 93, 82]]"
      ]
     },
     "execution_count": 22,
     "metadata": {},
     "output_type": "execute_result"
    }
   ],
   "source": [
    "#50個學生,5個分數\n",
    "# _ 省略運算子\n",
    "import random\n",
    "\n",
    "students = []\n",
    "for _ in range(50):\n",
    "    scores =[]\n",
    "    for _ in range(5):\n",
    "        scores.append(random.randint(60,100))\n",
    "    students.append(scores)\n",
    "\n",
    "students"
   ]
  },
  {
   "cell_type": "code",
   "execution_count": 28,
   "id": "78a2abf4",
   "metadata": {},
   "outputs": [
    {
     "name": "stdout",
     "output_type": "stream",
     "text": [
      "學生1\n",
      "學生分數:[68, 97, 89, 93, 82],總分為:397,平均:79.4\n",
      "=========\n",
      "學生2\n",
      "學生分數:[68, 97, 89, 93, 82],總分為:401,平均:80.2\n",
      "=========\n",
      "學生3\n",
      "學生分數:[68, 97, 89, 93, 82],總分為:402,平均:80.4\n",
      "=========\n",
      "學生4\n",
      "學生分數:[68, 97, 89, 93, 82],總分為:390,平均:78.0\n",
      "=========\n",
      "學生5\n",
      "學生分數:[68, 97, 89, 93, 82],總分為:396,平均:79.2\n",
      "=========\n",
      "學生6\n",
      "學生分數:[68, 97, 89, 93, 82],總分為:360,平均:72.0\n",
      "=========\n",
      "學生7\n",
      "學生分數:[68, 97, 89, 93, 82],總分為:437,平均:87.4\n",
      "=========\n",
      "學生8\n",
      "學生分數:[68, 97, 89, 93, 82],總分為:431,平均:86.2\n",
      "=========\n",
      "學生9\n",
      "學生分數:[68, 97, 89, 93, 82],總分為:379,平均:75.8\n",
      "=========\n",
      "學生10\n",
      "學生分數:[68, 97, 89, 93, 82],總分為:424,平均:84.8\n",
      "=========\n",
      "學生11\n",
      "學生分數:[68, 97, 89, 93, 82],總分為:434,平均:86.8\n",
      "=========\n",
      "學生12\n",
      "學生分數:[68, 97, 89, 93, 82],總分為:395,平均:79.0\n",
      "=========\n",
      "學生13\n",
      "學生分數:[68, 97, 89, 93, 82],總分為:383,平均:76.6\n",
      "=========\n",
      "學生14\n",
      "學生分數:[68, 97, 89, 93, 82],總分為:403,平均:80.6\n",
      "=========\n",
      "學生15\n",
      "學生分數:[68, 97, 89, 93, 82],總分為:396,平均:79.2\n",
      "=========\n",
      "學生16\n",
      "學生分數:[68, 97, 89, 93, 82],總分為:363,平均:72.6\n",
      "=========\n",
      "學生17\n",
      "學生分數:[68, 97, 89, 93, 82],總分為:396,平均:79.2\n",
      "=========\n",
      "學生18\n",
      "學生分數:[68, 97, 89, 93, 82],總分為:422,平均:84.4\n",
      "=========\n",
      "學生19\n",
      "學生分數:[68, 97, 89, 93, 82],總分為:376,平均:75.2\n",
      "=========\n",
      "學生20\n",
      "學生分數:[68, 97, 89, 93, 82],總分為:421,平均:84.2\n",
      "=========\n",
      "學生21\n",
      "學生分數:[68, 97, 89, 93, 82],總分為:391,平均:78.2\n",
      "=========\n",
      "學生22\n",
      "學生分數:[68, 97, 89, 93, 82],總分為:348,平均:69.6\n",
      "=========\n",
      "學生23\n",
      "學生分數:[68, 97, 89, 93, 82],總分為:381,平均:76.2\n",
      "=========\n",
      "學生24\n",
      "學生分數:[68, 97, 89, 93, 82],總分為:378,平均:75.6\n",
      "=========\n",
      "學生25\n",
      "學生分數:[68, 97, 89, 93, 82],總分為:428,平均:85.6\n",
      "=========\n",
      "學生26\n",
      "學生分數:[68, 97, 89, 93, 82],總分為:410,平均:82.0\n",
      "=========\n",
      "學生27\n",
      "學生分數:[68, 97, 89, 93, 82],總分為:400,平均:80.0\n",
      "=========\n",
      "學生28\n",
      "學生分數:[68, 97, 89, 93, 82],總分為:386,平均:77.2\n",
      "=========\n",
      "學生29\n",
      "學生分數:[68, 97, 89, 93, 82],總分為:427,平均:85.4\n",
      "=========\n",
      "學生30\n",
      "學生分數:[68, 97, 89, 93, 82],總分為:361,平均:72.2\n",
      "=========\n",
      "學生31\n",
      "學生分數:[68, 97, 89, 93, 82],總分為:391,平均:78.2\n",
      "=========\n",
      "學生32\n",
      "學生分數:[68, 97, 89, 93, 82],總分為:368,平均:73.6\n",
      "=========\n",
      "學生33\n",
      "學生分數:[68, 97, 89, 93, 82],總分為:380,平均:76.0\n",
      "=========\n",
      "學生34\n",
      "學生分數:[68, 97, 89, 93, 82],總分為:348,平均:69.6\n",
      "=========\n",
      "學生35\n",
      "學生分數:[68, 97, 89, 93, 82],總分為:433,平均:86.6\n",
      "=========\n",
      "學生36\n",
      "學生分數:[68, 97, 89, 93, 82],總分為:428,平均:85.6\n",
      "=========\n",
      "學生37\n",
      "學生分數:[68, 97, 89, 93, 82],總分為:381,平均:76.2\n",
      "=========\n",
      "學生38\n",
      "學生分數:[68, 97, 89, 93, 82],總分為:373,平均:74.6\n",
      "=========\n",
      "學生39\n",
      "學生分數:[68, 97, 89, 93, 82],總分為:392,平均:78.4\n",
      "=========\n",
      "學生40\n",
      "學生分數:[68, 97, 89, 93, 82],總分為:401,平均:80.2\n",
      "=========\n",
      "學生41\n",
      "學生分數:[68, 97, 89, 93, 82],總分為:371,平均:74.2\n",
      "=========\n",
      "學生42\n",
      "學生分數:[68, 97, 89, 93, 82],總分為:358,平均:71.6\n",
      "=========\n",
      "學生43\n",
      "學生分數:[68, 97, 89, 93, 82],總分為:459,平均:91.8\n",
      "=========\n",
      "學生44\n",
      "學生分數:[68, 97, 89, 93, 82],總分為:367,平均:73.4\n",
      "=========\n",
      "學生45\n",
      "學生分數:[68, 97, 89, 93, 82],總分為:420,平均:84.0\n",
      "=========\n",
      "學生46\n",
      "學生分數:[68, 97, 89, 93, 82],總分為:369,平均:73.8\n",
      "=========\n",
      "學生47\n",
      "學生分數:[68, 97, 89, 93, 82],總分為:379,平均:75.8\n",
      "=========\n",
      "學生48\n",
      "學生分數:[68, 97, 89, 93, 82],總分為:416,平均:83.2\n",
      "=========\n",
      "學生49\n",
      "學生分數:[68, 97, 89, 93, 82],總分為:357,平均:71.4\n",
      "=========\n",
      "學生50\n",
      "學生分數:[68, 97, 89, 93, 82],總分為:429,平均:85.8\n",
      "=========\n"
     ]
    }
   ],
   "source": [
    "studentId = 0\n",
    "for stu in students:\n",
    "    sum = 0\n",
    "    studentId += 1\n",
    "    print(f\"學生{studentId}\")\n",
    "    for score in stu:\n",
    "        sum += score\n",
    "    print(f\"學生分數:{scores},總分為:{sum},平均:{sum/5}\")\n",
    "    print(\"=========\")"
   ]
  },
  {
   "cell_type": "code",
   "execution_count": 29,
   "id": "f3506b02",
   "metadata": {},
   "outputs": [
    {
     "data": {
      "text/plain": [
       "['台北', '台中', '高雄', '台南']"
      ]
     },
     "execution_count": 29,
     "metadata": {},
     "output_type": "execute_result"
    }
   ],
   "source": [
    "#增加元素\n",
    "citys = ['台北', '台中', '高雄']\n",
    "citys.append('台南')\n",
    "citys"
   ]
  },
  {
   "cell_type": "code",
   "execution_count": 30,
   "id": "feeda89a",
   "metadata": {},
   "outputs": [
    {
     "data": {
      "text/plain": [
       "['台北', '台中', '高雄', '台南', '花蓮', '台東']"
      ]
     },
     "execution_count": 30,
     "metadata": {},
     "output_type": "execute_result"
    }
   ],
   "source": [
    "others = ['花蓮','台東']\n",
    "citys.extend(others)\n",
    "citys"
   ]
  },
  {
   "cell_type": "code",
   "execution_count": 31,
   "id": "b07154b3",
   "metadata": {},
   "outputs": [
    {
     "data": {
      "text/plain": [
       "['台北', '台中', '高雄', '台南', '花蓮', '花蓮', '台東']"
      ]
     },
     "execution_count": 31,
     "metadata": {},
     "output_type": "execute_result"
    }
   ],
   "source": [
    "citys = ['台北', '台中', '高雄', '台南', '花蓮']\n",
    "citys += ['花蓮','台東']\n",
    "citys"
   ]
  },
  {
   "cell_type": "code",
   "execution_count": 32,
   "id": "959cb919",
   "metadata": {},
   "outputs": [
    {
     "data": {
      "text/plain": [
       "['台南', '台北', '台中', '高雄']"
      ]
     },
     "execution_count": 32,
     "metadata": {},
     "output_type": "execute_result"
    }
   ],
   "source": [
    "citys = ['台北', '台中', '高雄']\n",
    "citys.insert(0,'台南')\n",
    "citys"
   ]
  },
  {
   "cell_type": "code",
   "execution_count": 33,
   "id": "5258ba8b",
   "metadata": {},
   "outputs": [
    {
     "data": {
      "text/plain": [
       "['台南', '台中', '高雄']"
      ]
     },
     "execution_count": 33,
     "metadata": {},
     "output_type": "execute_result"
    }
   ],
   "source": [
    "citys.remove('台北')\n",
    "citys"
   ]
  },
  {
   "cell_type": "code",
   "execution_count": 34,
   "id": "b42339b6",
   "metadata": {},
   "outputs": [
    {
     "data": {
      "text/plain": [
       "['台南', '台中']"
      ]
     },
     "execution_count": 34,
     "metadata": {},
     "output_type": "execute_result"
    }
   ],
   "source": [
    "citys.pop()\n",
    "citys"
   ]
  },
  {
   "cell_type": "code",
   "execution_count": 35,
   "id": "ee86f6dc",
   "metadata": {},
   "outputs": [
    {
     "data": {
      "text/plain": [
       "['台中', '高雄']"
      ]
     },
     "execution_count": 35,
     "metadata": {},
     "output_type": "execute_result"
    }
   ],
   "source": [
    "citys = ['台北', '台中', '高雄']\n",
    "citys.pop(0)\n",
    "citys"
   ]
  },
  {
   "cell_type": "code",
   "execution_count": 36,
   "id": "6949679b",
   "metadata": {},
   "outputs": [
    {
     "data": {
      "text/plain": [
       "[]"
      ]
     },
     "execution_count": 36,
     "metadata": {},
     "output_type": "execute_result"
    }
   ],
   "source": [
    "citys.clear()\n",
    "citys"
   ]
  },
  {
   "cell_type": "code",
   "execution_count": null,
   "id": "cbb1f8bd",
   "metadata": {},
   "outputs": [],
   "source": []
  }
 ],
 "metadata": {
  "kernelspec": {
   "display_name": "Python 3 (ipykernel)",
   "language": "python",
   "name": "python3"
  },
  "language_info": {
   "codemirror_mode": {
    "name": "ipython",
    "version": 3
   },
   "file_extension": ".py",
   "mimetype": "text/x-python",
   "name": "python",
   "nbconvert_exporter": "python",
   "pygments_lexer": "ipython3",
   "version": "3.8.7"
  }
 },
 "nbformat": 4,
 "nbformat_minor": 5
}
