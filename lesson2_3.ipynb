{
 "cells": [
  {
   "cell_type": "code",
   "execution_count": 3,
   "id": "49dc024c",
   "metadata": {},
   "outputs": [
    {
     "name": "stdout",
     "output_type": "stream",
     "text": [
      "請輸入國文分數:80\n"
     ]
    },
    {
     "data": {
      "text/plain": [
       "int"
      ]
     },
     "execution_count": 3,
     "metadata": {},
     "output_type": "execute_result"
    }
   ],
   "source": [
    "chinese = int(input(\"請輸入國文分數:\"))\n",
    "type(chinese)"
   ]
  },
  {
   "cell_type": "code",
   "execution_count": 10,
   "id": "921d6287",
   "metadata": {},
   "outputs": [
    {
     "name": "stdout",
     "output_type": "stream",
     "text": [
      "請輸入國文分數:80\n",
      "請輸入英文分數:70\n",
      "請輸入數學分數:90\n",
      "國文:80,英文:70,數學:90,總分:240,平均:80.0\n"
     ]
    }
   ],
   "source": [
    "chinese = int(input(\"請輸入國文分數:\"))\n",
    "english = int(input(\"請輸入英文分數:\"))\n",
    "math = int(input(\"請輸入數學分數:\"))\n",
    "sum = chinese + english + math\n",
    "avge = sum / 3\n",
    "print(f\"國文:{chinese},英文:{english},數學:{math},總分:{sum},平均:{avge}\")"
   ]
  },
  {
   "cell_type": "code",
   "execution_count": 9,
   "id": "9de5ce41",
   "metadata": {},
   "outputs": [
    {
     "name": "stdout",
     "output_type": "stream",
     "text": [
      "請輸入國文分數:80\n",
      "請輸入英文分數:70\n",
      "請輸入數學分數:90\n",
      "國文:80,英文:70,數學:90\n",
      "總分:240,平均:80.00\n"
     ]
    }
   ],
   "source": [
    "chinese = int(input(\"請輸入國文分數:\"))\n",
    "english = int(input(\"請輸入英文分數:\"))\n",
    "math = int(input(\"請輸入數學分數:\"))\n",
    "sum = chinese + english + math\n",
    "avge = sum / 3\n",
    "print(f\"國文:{chinese},英文:{english},數學:{math}\")\n",
    "print(\"總分:%d,平均:%.2f\" % (sum,avge))"
   ]
  },
  {
   "cell_type": "code",
   "execution_count": 17,
   "id": "2e256acb",
   "metadata": {},
   "outputs": [
    {
     "name": "stdout",
     "output_type": "stream",
     "text": [
      "請輸入被除數:45\n",
      "請輸入除數:4\n",
      "商:11 餘數:1\n"
     ]
    }
   ],
   "source": [
    "''' 讓使用者輸入被除數(整數)及除數(整數，不可以是零) 程式會顯示兩數相除的商及餘數 ''' \n",
    "\n",
    "num1 = int(input('請輸入被除數:'))\n",
    "\n",
    "num2 = int(input('請輸入除數:'))\n",
    "\n",
    "#商 等於 a\n",
    "a = num1 // num2 \n",
    "\n",
    "#餘數 等於 b\n",
    "b = num1 % num2 \n",
    "print(f\"商:{a} 餘數:{b}\")"
   ]
  },
  {
   "cell_type": "code",
   "execution_count": 18,
   "id": "d12d5dc2",
   "metadata": {},
   "outputs": [
    {
     "data": {
      "text/plain": [
       "900"
      ]
     },
     "execution_count": 18,
     "metadata": {},
     "output_type": "execute_result"
    }
   ],
   "source": [
    "n = 1000\n",
    "n - 100\n"
   ]
  },
  {
   "cell_type": "code",
   "execution_count": 19,
   "id": "0f650674",
   "metadata": {},
   "outputs": [
    {
     "data": {
      "text/plain": [
       "900"
      ]
     },
     "execution_count": 19,
     "metadata": {},
     "output_type": "execute_result"
    }
   ],
   "source": [
    "n = 1000\n",
    "n -= 100\n",
    "n"
   ]
  },
  {
   "cell_type": "code",
   "execution_count": 23,
   "id": "d0fc1a3e",
   "metadata": {},
   "outputs": [
    {
     "name": "stdout",
     "output_type": "stream",
     "text": [
      "請輸入手機金額12345\n",
      "剩餘款為:37655\n"
     ]
    }
   ],
   "source": [
    "#複合指定運算字子\n",
    "money = 50000\n",
    "cellphone = int(input('請輸入手機金額'))\n",
    "money -= cellphone\n",
    "print(f'剩餘款為:{money}')"
   ]
  },
  {
   "cell_type": "code",
   "execution_count": null,
   "id": "621264f8",
   "metadata": {},
   "outputs": [],
   "source": []
  }
 ],
 "metadata": {
  "kernelspec": {
   "display_name": "Python 3 (ipykernel)",
   "language": "python",
   "name": "python3"
  },
  "language_info": {
   "codemirror_mode": {
    "name": "ipython",
    "version": 3
   },
   "file_extension": ".py",
   "mimetype": "text/x-python",
   "name": "python",
   "nbconvert_exporter": "python",
   "pygments_lexer": "ipython3",
   "version": "3.8.7"
  }
 },
 "nbformat": 4,
 "nbformat_minor": 5
}
