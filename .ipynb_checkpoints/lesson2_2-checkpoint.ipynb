{
 "cells": [
  {
   "cell_type": "code",
   "execution_count": 2,
   "id": "2ae481f0",
   "metadata": {},
   "outputs": [
    {
     "data": {
      "text/plain": [
       "13"
      ]
     },
     "execution_count": 2,
     "metadata": {},
     "output_type": "execute_result"
    }
   ],
   "source": [
    "5 + 8"
   ]
  },
  {
   "cell_type": "code",
   "execution_count": 3,
   "id": "137b4cfe",
   "metadata": {},
   "outputs": [
    {
     "data": {
      "text/plain": [
       "80"
      ]
     },
     "execution_count": 3,
     "metadata": {},
     "output_type": "execute_result"
    }
   ],
   "source": [
    "90 - 10"
   ]
  },
  {
   "cell_type": "code",
   "execution_count": 4,
   "id": "7608f23b",
   "metadata": {},
   "outputs": [
    {
     "data": {
      "text/plain": [
       "28"
      ]
     },
     "execution_count": 4,
     "metadata": {},
     "output_type": "execute_result"
    }
   ],
   "source": [
    "4 * 7"
   ]
  },
  {
   "cell_type": "code",
   "execution_count": 13,
   "id": "dd35bac8",
   "metadata": {},
   "outputs": [
    {
     "data": {
      "text/plain": [
       "3.5"
      ]
     },
     "execution_count": 13,
     "metadata": {},
     "output_type": "execute_result"
    }
   ],
   "source": [
    "#浮點數的除法\n",
    "7 / 2"
   ]
  },
  {
   "cell_type": "code",
   "execution_count": 6,
   "id": "4dbee1c1",
   "metadata": {},
   "outputs": [
    {
     "data": {
      "text/plain": [
       "1"
      ]
     },
     "execution_count": 6,
     "metadata": {},
     "output_type": "execute_result"
    }
   ],
   "source": [
    "7 % 3"
   ]
  },
  {
   "cell_type": "code",
   "execution_count": 10,
   "id": "34ebc9f5",
   "metadata": {},
   "outputs": [
    {
     "data": {
      "text/plain": [
       "8"
      ]
     },
     "execution_count": 10,
     "metadata": {},
     "output_type": "execute_result"
    }
   ],
   "source": [
    "2 ** 3"
   ]
  },
  {
   "cell_type": "code",
   "execution_count": 11,
   "id": "1e42e2b9",
   "metadata": {},
   "outputs": [
    {
     "data": {
      "text/plain": [
       "-16"
      ]
     },
     "execution_count": 11,
     "metadata": {},
     "output_type": "execute_result"
    }
   ],
   "source": [
    "-2 ** 4"
   ]
  },
  {
   "cell_type": "code",
   "execution_count": 12,
   "id": "fcfcb04f",
   "metadata": {},
   "outputs": [
    {
     "data": {
      "text/plain": [
       "16"
      ]
     },
     "execution_count": 12,
     "metadata": {},
     "output_type": "execute_result"
    }
   ],
   "source": [
    "(-2) ** 4"
   ]
  },
  {
   "cell_type": "code",
   "execution_count": 14,
   "id": "93474806",
   "metadata": {},
   "outputs": [
    {
     "data": {
      "text/plain": [
       "14"
      ]
     },
     "execution_count": 14,
     "metadata": {},
     "output_type": "execute_result"
    }
   ],
   "source": [
    "2 + 3 * 4"
   ]
  },
  {
   "cell_type": "code",
   "execution_count": 15,
   "id": "8792cd4c",
   "metadata": {},
   "outputs": [
    {
     "data": {
      "text/plain": [
       "20"
      ]
     },
     "execution_count": 15,
     "metadata": {},
     "output_type": "execute_result"
    }
   ],
   "source": [
    "(2 + 3) * 4"
   ]
  },
  {
   "cell_type": "code",
   "execution_count": 16,
   "id": "b47d5db2",
   "metadata": {},
   "outputs": [
    {
     "data": {
      "text/plain": [
       "10"
      ]
     },
     "execution_count": 16,
     "metadata": {},
     "output_type": "execute_result"
    }
   ],
   "source": [
    "2 * (1 + 2 ) **2 - 2 ** 2 * 2"
   ]
  },
  {
   "cell_type": "code",
   "execution_count": 21,
   "id": "52664fe2",
   "metadata": {},
   "outputs": [
    {
     "name": "stdout",
     "output_type": "stream",
     "text": [
      "<class 'bool'>\n",
      "1\n",
      "0\n"
     ]
    }
   ],
   "source": [
    "#資料型態轉換\n",
    "\n",
    "a = True\n",
    "print(type(a))\n",
    "\n",
    "print(int(a))\n",
    "\n",
    "b = False\n",
    "print(int(b))"
   ]
  },
  {
   "cell_type": "code",
   "execution_count": 25,
   "id": "613e9a75",
   "metadata": {},
   "outputs": [
    {
     "name": "stdout",
     "output_type": "stream",
     "text": [
      "173\n",
      "123\n",
      "12350\n",
      "173.0\n"
     ]
    }
   ],
   "source": [
    "c = \"123\"\n",
    "\n",
    "d = 50\n",
    "\n",
    "print(int(c) + d)\n",
    "\n",
    "print(c)\n",
    "\n",
    "print(c + str(d))\n",
    "\n",
    "#轉換成浮點數再相加\n",
    "print(float(c) + d)"
   ]
  },
  {
   "cell_type": "code",
   "execution_count": null,
   "id": "0c12b87c",
   "metadata": {},
   "outputs": [],
   "source": [
    "print(googol = 5 ** 5)"
   ]
  },
  {
   "cell_type": "code",
   "execution_count": null,
   "id": "98ef163f",
   "metadata": {},
   "outputs": [],
   "source": [
    "#單行文字 \\ 將下一行\n",
    "poem = \"進入北歐國度向奧林匹斯諸神尋求復仇後已過多年，\\\n",
    "克雷多斯現在居住於北歐神話的眾神和怪物國度裡，過著凡人的生活。\\\n",
    "在這個嚴酷無情的世界，他必須為了生存而奮鬥……並將此生存之道傳授給自己的兒子。\n",
    "\""
   ]
  },
  {
   "cell_type": "code",
   "execution_count": null,
   "id": "0140e372",
   "metadata": {},
   "outputs": [],
   "source": [
    "#多行文字 \"\"\" \"\"\"\n",
    "poem2 = \"\"\"進入北歐國度向奧林匹斯諸神尋求復仇後已過多年，\n",
    "克雷多斯現在居住於北歐神話的眾神和怪物國度裡，過著凡人的生活。\n",
    "在這個嚴酷無情的世界，他必須為了生存而奮鬥……並將此生存之道傳授給自己的兒子。\"\"\"\n",
    "print(poem2)"
   ]
  },
  {
   "cell_type": "code",
   "execution_count": null,
   "id": "c67912a6",
   "metadata": {},
   "outputs": [],
   "source": []
  }
 ],
 "metadata": {
  "kernelspec": {
   "display_name": "Python 3 (ipykernel)",
   "language": "python",
   "name": "python3"
  },
  "language_info": {
   "codemirror_mode": {
    "name": "ipython",
    "version": 3
   },
   "file_extension": ".py",
   "mimetype": "text/x-python",
   "name": "python",
   "nbconvert_exporter": "python",
   "pygments_lexer": "ipython3",
   "version": "3.8.7"
  }
 },
 "nbformat": 4,
 "nbformat_minor": 5
}
