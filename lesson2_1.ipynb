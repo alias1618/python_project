{
 "cells": [
  {
   "cell_type": "code",
   "execution_count": 4,
   "id": "a55b3ea3",
   "metadata": {},
   "outputs": [
    {
     "name": "stdout",
     "output_type": "stream",
     "text": [
      "170\n"
     ]
    }
   ],
   "source": [
    "chinese = 80\n",
    "english = 90\n",
    "sum = chinese + english\n",
    "print(sum)"
   ]
  },
  {
   "cell_type": "code",
   "execution_count": null,
   "id": "939acc72",
   "metadata": {},
   "outputs": [],
   "source": [
    "#這是註解\n",
    "#這是說明文字"
   ]
  },
  {
   "cell_type": "code",
   "execution_count": 6,
   "id": "63abd24b",
   "metadata": {},
   "outputs": [
    {
     "name": "stdout",
     "output_type": "stream",
     "text": [
      "3\n",
      "3.12\n",
      "Hello! world!\n",
      "Hello! \n",
      "world!\n",
      "5\n"
     ]
    }
   ],
   "source": [
    "#print()\n",
    "print(3)\n",
    "#整數\n",
    "print(3.12)\n",
    "#浮點數\n",
    "print(\"Hello! world!\")\n",
    "#字串\n",
    "print(\"Hello! \\nworld!\")\n",
    "#\\n 換行\n",
    "print(3+2)\n",
    "#運算式"
   ]
  },
  {
   "cell_type": "code",
   "execution_count": 7,
   "id": "f7064584",
   "metadata": {},
   "outputs": [
    {
     "name": "stdout",
     "output_type": "stream",
     "text": [
      "a得內容是 100\n"
     ]
    }
   ],
   "source": [
    "a = 100\n",
    "print(\"a得內容是\", a)\n",
    "#逗號會空一格"
   ]
  },
  {
   "cell_type": "code",
   "execution_count": 14,
   "id": "54127a47",
   "metadata": {},
   "outputs": [],
   "source": [
    "#Python 內建資料型別\n",
    "#Python的變數並沒有設定固定型態\n",
    "#變數型態有整數 浮點數 布林值 字串\n",
    "\n",
    "#int 67\n",
    "#float 67.0\n",
    "#bool True\n",
    "#str \"xxxx\"\n",
    "#type(67)   -->表示型別\n",
    "\n"
   ]
  },
  {
   "cell_type": "code",
   "execution_count": 13,
   "id": "a6346777",
   "metadata": {},
   "outputs": [
    {
     "data": {
      "text/plain": [
       "int"
      ]
     },
     "execution_count": 13,
     "metadata": {},
     "output_type": "execute_result"
    }
   ],
   "source": [
    "#內建資料型別\n",
    "var1 = 20\n",
    "type(var1)"
   ]
  },
  {
   "cell_type": "code",
   "execution_count": 12,
   "id": "64f2bf24",
   "metadata": {},
   "outputs": [
    {
     "data": {
      "text/plain": [
       "float"
      ]
     },
     "execution_count": 12,
     "metadata": {},
     "output_type": "execute_result"
    }
   ],
   "source": [
    "var2 = 20.0\n",
    "type(var2)"
   ]
  },
  {
   "cell_type": "code",
   "execution_count": 10,
   "id": "14c831c3",
   "metadata": {},
   "outputs": [
    {
     "data": {
      "text/plain": [
       "bool"
      ]
     },
     "execution_count": 10,
     "metadata": {},
     "output_type": "execute_result"
    }
   ],
   "source": [
    "var3 = False\n",
    "type(var3)"
   ]
  },
  {
   "cell_type": "code",
   "execution_count": 11,
   "id": "7c3f6fb4",
   "metadata": {},
   "outputs": [
    {
     "data": {
      "text/plain": [
       "str"
      ]
     },
     "execution_count": 11,
     "metadata": {},
     "output_type": "execute_result"
    }
   ],
   "source": [
    "var4 = 'abc'\n",
    "type(var4)"
   ]
  },
  {
   "cell_type": "code",
   "execution_count": 15,
   "id": "9f8ca138",
   "metadata": {},
   "outputs": [
    {
     "data": {
      "text/plain": [
       "int"
      ]
     },
     "execution_count": 15,
     "metadata": {},
     "output_type": "execute_result"
    }
   ],
   "source": [
    "#python 是動態型別\n",
    "var5 = 20\n",
    "type(var5)"
   ]
  },
  {
   "cell_type": "code",
   "execution_count": 16,
   "id": "b0a3f6b6",
   "metadata": {},
   "outputs": [
    {
     "data": {
      "text/plain": [
       "float"
      ]
     },
     "execution_count": 16,
     "metadata": {},
     "output_type": "execute_result"
    }
   ],
   "source": [
    "var5 = 20.0\n",
    "type(var5)"
   ]
  },
  {
   "cell_type": "code",
   "execution_count": 19,
   "id": "c50f9a7d",
   "metadata": {},
   "outputs": [
    {
     "name": "stdout",
     "output_type": "stream",
     "text": [
      "world Python\n",
      "worldPython\n",
      "world-Python\n"
     ]
    }
   ],
   "source": [
    "#使用print()輸出不用資料.\n",
    "x = 'world'\n",
    "y = 'Python'\n",
    "print(x,y)\n",
    "#使用rint(sep='')\n",
    "print(x,y,sep='')\n",
    "#使用rint(sep='-')\n",
    "print(x,y,sep='-')"
   ]
  },
  {
   "cell_type": "code",
   "execution_count": 21,
   "id": "5f6798ad",
   "metadata": {},
   "outputs": [
    {
     "name": "stdout",
     "output_type": "stream",
     "text": [
      "worldPython\n"
     ]
    }
   ],
   "source": [
    "#字串是可以相加的\n",
    "x = 'world'\n",
    "y = 'Python'\n",
    "x + y\n",
    "\n",
    "print(x + y)"
   ]
  },
  {
   "cell_type": "code",
   "execution_count": 22,
   "id": "c750797b",
   "metadata": {},
   "outputs": [
    {
     "ename": "TypeError",
     "evalue": "can only concatenate str (not \"int\") to str",
     "output_type": "error",
     "traceback": [
      "\u001b[1;31m---------------------------------------------------------------------------\u001b[0m",
      "\u001b[1;31mTypeError\u001b[0m                                 Traceback (most recent call last)",
      "Input \u001b[1;32mIn [22]\u001b[0m, in \u001b[0;36m<module>\u001b[1;34m\u001b[0m\n\u001b[0;32m      2\u001b[0m x \u001b[38;5;241m=\u001b[39m \u001b[38;5;124m'\u001b[39m\u001b[38;5;124mworld\u001b[39m\u001b[38;5;124m'\u001b[39m\n\u001b[0;32m      3\u001b[0m y \u001b[38;5;241m=\u001b[39m \u001b[38;5;241m123\u001b[39m\n\u001b[1;32m----> 5\u001b[0m \u001b[43mx\u001b[49m\u001b[43m \u001b[49m\u001b[38;5;241;43m+\u001b[39;49m\u001b[43m \u001b[49m\u001b[43my\u001b[49m\n",
      "\u001b[1;31mTypeError\u001b[0m: can only concatenate str (not \"int\") to str"
     ]
    }
   ],
   "source": [
    "#字串不可加數值\n",
    "x = 'world'\n",
    "y = 123\n",
    "\n",
    "x + y"
   ]
  },
  {
   "cell_type": "code",
   "execution_count": 23,
   "id": "7a0dbaef",
   "metadata": {},
   "outputs": [
    {
     "data": {
      "text/plain": [
       "15.0"
      ]
     },
     "execution_count": 23,
     "metadata": {},
     "output_type": "execute_result"
    }
   ],
   "source": [
    "#整數和浮點數可以相加 \n",
    "x = 5\n",
    "y = 10.0\n",
    "x + y"
   ]
  },
  {
   "cell_type": "code",
   "execution_count": 27,
   "id": "a4dbf9b7",
   "metadata": {},
   "outputs": [
    {
     "name": "stdout",
     "output_type": "stream",
     "text": [
      "國文: 98 ,英文: 76 ,數學: 85\n",
      "國文:98,英文:76,數學:85\n",
      "國文:98,英文:76,數學:85\n"
     ]
    }
   ],
   "source": [
    "chinese = 98\n",
    "english = 76\n",
    "math = 85\n",
    "print(\"國文:\",chinese,\",英文:\",english,\",數學:\",math)\n",
    "\n",
    "print(\"國文:\",chinese,\",英文:\",english,\",數學:\",math,sep='')\n",
    "\n",
    "#字串差補\n",
    "print(f\"國文:{chinese},英文:{english},數學:{math}\")"
   ]
  },
  {
   "cell_type": "code",
   "execution_count": null,
   "id": "b1fc4ca6",
   "metadata": {},
   "outputs": [],
   "source": [
    "python 數學運算子\n"
   ]
  }
 ],
 "metadata": {
  "kernelspec": {
   "display_name": "Python 3 (ipykernel)",
   "language": "python",
   "name": "python3"
  },
  "language_info": {
   "codemirror_mode": {
    "name": "ipython",
    "version": 3
   },
   "file_extension": ".py",
   "mimetype": "text/x-python",
   "name": "python",
   "nbconvert_exporter": "python",
   "pygments_lexer": "ipython3",
   "version": "3.8.7"
  }
 },
 "nbformat": 4,
 "nbformat_minor": 5
}
