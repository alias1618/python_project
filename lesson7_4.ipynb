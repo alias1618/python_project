{
 "cells": [
  {
   "cell_type": "code",
   "execution_count": 1,
   "id": "fe20c014",
   "metadata": {},
   "outputs": [
    {
     "data": {
      "text/plain": [
       "{'wine': '白酒', 'entree': '牛排', 'dessert': '蛋糕'}"
      ]
     },
     "execution_count": 1,
     "metadata": {},
     "output_type": "execute_result"
    }
   ],
   "source": [
    "def menu(wine, entree, dessert):\n",
    "    return {\n",
    "        'wine':wine,\n",
    "        'entree':entree,\n",
    "        'dessert':dessert\n",
    "    }\n",
    "#引數位置的呼叫\n",
    "menu(\"白酒\",\"牛排\",\"蛋糕\")"
   ]
  },
  {
   "cell_type": "code",
   "execution_count": 2,
   "id": "15dcc9c9",
   "metadata": {},
   "outputs": [
    {
     "data": {
      "text/plain": [
       "{'wine': '白酒', 'entree': '蛋糕', 'dessert': '牛排'}"
      ]
     },
     "execution_count": 2,
     "metadata": {},
     "output_type": "execute_result"
    }
   ],
   "source": [
    "#引數位置的呼叫必需要依照參數的順序呼叫\n",
    "menu(\"白酒\",\"蛋糕\",\"牛排\") #不依順序是錯誤的"
   ]
  },
  {
   "cell_type": "code",
   "execution_count": 3,
   "id": "8ba3cee2",
   "metadata": {},
   "outputs": [
    {
     "data": {
      "text/plain": [
       "{'wine': '白酒', 'entree': '牛排', 'dessert': '蛋糕'}"
      ]
     },
     "execution_count": 3,
     "metadata": {},
     "output_type": "execute_result"
    }
   ],
   "source": [
    "def menu(wine, entree, dessert):\n",
    "    return {\n",
    "        'wine':wine,\n",
    "        'entree':entree,\n",
    "        'dessert':dessert\n",
    "    }\n",
    "\n",
    "#引數名稱的呼叫\n",
    "menu(wine=\"白酒\",entree=\"牛排\",dessert=\"蛋糕\")"
   ]
  },
  {
   "cell_type": "code",
   "execution_count": 4,
   "id": "e251d9a6",
   "metadata": {},
   "outputs": [
    {
     "data": {
      "text/plain": [
       "{'wine': '白酒', 'entree': '牛排', 'dessert': '蛋糕'}"
      ]
     },
     "execution_count": 4,
     "metadata": {},
     "output_type": "execute_result"
    }
   ],
   "source": [
    "#引數名稱的呼叫,可以不依照順序\n",
    "menu(wine=\"白酒\",dessert=\"蛋糕\",entree=\"牛排\")"
   ]
  },
  {
   "cell_type": "code",
   "execution_count": 5,
   "id": "17998a5c",
   "metadata": {},
   "outputs": [
    {
     "data": {
      "text/plain": [
       "{'wine': '白酒', 'entree': '牛排', 'dessert': '蛋糕'}"
      ]
     },
     "execution_count": 5,
     "metadata": {},
     "output_type": "execute_result"
    }
   ],
   "source": [
    "#引數名稱的呼叫,可以不依照順序\n",
    "menu(dessert=\"蛋糕\",entree=\"牛排\",wine=\"白酒\")"
   ]
  },
  {
   "cell_type": "code",
   "execution_count": 6,
   "id": "712c4834",
   "metadata": {},
   "outputs": [
    {
     "data": {
      "text/plain": [
       "{'wine': '白酒', 'entree': '牛排', 'dessert': '蛋糕'}"
      ]
     },
     "execution_count": 6,
     "metadata": {},
     "output_type": "execute_result"
    }
   ],
   "source": [
    "def menu(wine, entree, dessert):\n",
    "    return {\n",
    "        'wine':wine,\n",
    "        'entree':entree,\n",
    "        'dessert':dessert\n",
    "    }\n",
    "\n",
    "#混合呼叫\n",
    "#前面要用引數位置\n",
    "#後面要用引數名稱\n",
    "#使用了引數名稱後,就不可以再用引數位置\n",
    "menu('白酒',dessert='蛋糕',entree='牛排')"
   ]
  },
  {
   "cell_type": "code",
   "execution_count": 7,
   "id": "05096298",
   "metadata": {},
   "outputs": [
    {
     "data": {
      "text/plain": [
       "{'wine': '白酒', 'entree': '牛排', 'dessert': '蛋糕'}"
      ]
     },
     "execution_count": 7,
     "metadata": {},
     "output_type": "execute_result"
    }
   ],
   "source": [
    "#指定預設參數的值\n",
    "def menu(wine='白酒', entree='牛排', dessert='蛋糕'):\n",
    "    return {\n",
    "        'wine':wine,\n",
    "        'entree':entree,\n",
    "        'dessert':dessert\n",
    "    }\n",
    "#有預設參數的值時,呼叫的方式變多了\n",
    "menu()"
   ]
  },
  {
   "cell_type": "code",
   "execution_count": 8,
   "id": "d61a0eb5",
   "metadata": {},
   "outputs": [
    {
     "data": {
      "text/plain": [
       "{'wine': '紅酒', 'entree': '牛排', 'dessert': '蛋糕'}"
      ]
     },
     "execution_count": 8,
     "metadata": {},
     "output_type": "execute_result"
    }
   ],
   "source": [
    "menu('紅酒')"
   ]
  },
  {
   "cell_type": "code",
   "execution_count": 9,
   "id": "f1a68bba",
   "metadata": {},
   "outputs": [
    {
     "data": {
      "text/plain": [
       "{'wine': '紅酒', 'entree': '雞排', 'dessert': '蛋糕'}"
      ]
     },
     "execution_count": 9,
     "metadata": {},
     "output_type": "execute_result"
    }
   ],
   "source": [
    "menu('紅酒','雞排')"
   ]
  },
  {
   "cell_type": "code",
   "execution_count": 10,
   "id": "f99590e1",
   "metadata": {},
   "outputs": [
    {
     "data": {
      "text/plain": [
       "{'wine': '紅酒', 'entree': '雞排', 'dessert': '奶昔'}"
      ]
     },
     "execution_count": 10,
     "metadata": {},
     "output_type": "execute_result"
    }
   ],
   "source": [
    "menu('紅酒','雞排','奶昔')"
   ]
  },
  {
   "cell_type": "code",
   "execution_count": 11,
   "id": "cd131eff",
   "metadata": {},
   "outputs": [
    {
     "data": {
      "text/plain": [
       "{'wine': '紅酒', 'entree': '牛排', 'dessert': '奶昔'}"
      ]
     },
     "execution_count": 11,
     "metadata": {},
     "output_type": "execute_result"
    }
   ],
   "source": [
    "menu('紅酒', dessert='奶昔')"
   ]
  },
  {
   "cell_type": "code",
   "execution_count": 12,
   "id": "05dd7065",
   "metadata": {},
   "outputs": [
    {
     "data": {
      "text/plain": [
       "{'wine': '紅酒', 'entree': '雞排', 'dessert': '奶昔'}"
      ]
     },
     "execution_count": 12,
     "metadata": {},
     "output_type": "execute_result"
    }
   ],
   "source": [
    "menu(wine='紅酒', entree='雞排', dessert='奶昔')"
   ]
  },
  {
   "cell_type": "code",
   "execution_count": 13,
   "id": "6f01f4ec",
   "metadata": {},
   "outputs": [
    {
     "name": "stdout",
     "output_type": "stream",
     "text": [
      "2-紅酒-雞排-8.\n"
     ]
    }
   ],
   "source": [
    "print(2, '紅酒', '雞排', 8,sep='-',end='.\\n')"
   ]
  },
  {
   "cell_type": "code",
   "execution_count": null,
   "id": "7d131884",
   "metadata": {},
   "outputs": [],
   "source": [
    "#*args **kwargs"
   ]
  }
 ],
 "metadata": {
  "kernelspec": {
   "display_name": "Python 3 (ipykernel)",
   "language": "python",
   "name": "python3"
  },
  "language_info": {
   "codemirror_mode": {
    "name": "ipython",
    "version": 3
   },
   "file_extension": ".py",
   "mimetype": "text/x-python",
   "name": "python",
   "nbconvert_exporter": "python",
   "pygments_lexer": "ipython3",
   "version": "3.8.7"
  }
 },
 "nbformat": 4,
 "nbformat_minor": 5
}
