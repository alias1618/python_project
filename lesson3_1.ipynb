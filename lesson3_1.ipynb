{
 "cells": [
  {
   "cell_type": "code",
   "execution_count": 3,
   "id": "8957b60c",
   "metadata": {},
   "outputs": [],
   "source": [
    "age = 20"
   ]
  },
  {
   "cell_type": "code",
   "execution_count": 4,
   "id": "da40ac12",
   "metadata": {},
   "outputs": [
    {
     "name": "stdout",
     "output_type": "stream",
     "text": [
      "大於18\n",
      "成年了\n",
      "程式結束\n"
     ]
    }
   ],
   "source": [
    "#單項選擇\n",
    "if age >= 18:\n",
    "    print(\"大於18\")\n",
    "    print(\"成年了\")\n",
    "print('程式結束')"
   ]
  },
  {
   "cell_type": "code",
   "execution_count": 6,
   "id": "3d49fd21",
   "metadata": {},
   "outputs": [
    {
     "name": "stdout",
     "output_type": "stream",
     "text": [
      "請輸入age:10\n",
      "小於18\n",
      "未成年\n",
      "程式結束\n"
     ]
    }
   ],
   "source": [
    "#雙向選擇\n",
    "age = int(input('請輸入age:'))\n",
    "if age >= 18:\n",
    "    print(\"大於等於18\")\n",
    "    print(\"成年了\")\n",
    "else:\n",
    "    print(\"小於18\")\n",
    "    print(\"未成年\")\n",
    "print('程式結束')"
   ]
  },
  {
   "cell_type": "code",
   "execution_count": 7,
   "id": "2e9f62ba",
   "metadata": {},
   "outputs": [
    {
     "name": "stdout",
     "output_type": "stream",
     "text": [
      "請輸入age:15\n",
      "小於18,大於等於12\n",
      "未成年\n",
      "程式結束\n"
     ]
    }
   ],
   "source": [
    "#多向選擇\n",
    "age = int(input('請輸入age:'))\n",
    "if age >= 18:\n",
    "    print(\"大於等於18\")\n",
    "    print(\"成年了\")\n",
    "elif age >= 12:\n",
    "    print(\"小於18,大於等於12\")\n",
    "    print(\"未成年\")\n",
    "else:\n",
    "    print('小於12')\n",
    "    \n",
    "print('程式結束')"
   ]
  },
  {
   "cell_type": "code",
   "execution_count": 13,
   "id": "456caee5",
   "metadata": {},
   "outputs": [
    {
     "name": "stdout",
     "output_type": "stream",
     "text": [
      "請輸入age:15\n",
      "小於18,大於等於12\n",
      "未成年\n",
      "程式結束\n"
     ]
    }
   ],
   "source": [
    "#多向選擇\n",
    "age = int(input('請輸入age:'))\n",
    "if age < 12:\n",
    "    print('小於12')\n",
    "elif age < 18:\n",
    "    print(\"小於18,大於等於12\")\n",
    "    print(\"未成年\")\n",
    "else :\n",
    "    print(\"大於等於18\")\n",
    "    print(\"成年了\")\n",
    "print('程式結束')"
   ]
  },
  {
   "cell_type": "code",
   "execution_count": 14,
   "id": "edba219e",
   "metadata": {},
   "outputs": [
    {
     "name": "stdout",
     "output_type": "stream",
     "text": [
      "請輸入age:12\n",
      "小於18,大於等於12\n",
      "未成年\n",
      "程式結束\n"
     ]
    }
   ],
   "source": [
    "#多向選擇\n",
    "age = int(input('請輸入age:'))\n",
    "if age >= 18:\n",
    "    print(\"大於等於18\")\n",
    "    print(\"成年了\")\n",
    "elif age >= 12:\n",
    "    print(\"小於18,大於等於12\")\n",
    "    print(\"未成年\")\n",
    "else:\n",
    "    print('小於12')\n",
    "    \n",
    "print('程式結束')"
   ]
  },
  {
   "cell_type": "code",
   "execution_count": 17,
   "id": "aa84c260",
   "metadata": {},
   "outputs": [
    {
     "name": "stdout",
     "output_type": "stream",
     "text": [
      "請輸入分數:88\n",
      "成績等級為:甲\n"
     ]
    }
   ],
   "source": [
    "score = int(input('請輸入分數:'))\n",
    "if score >= 90:\n",
    "    grade = \"優\"\n",
    "elif score >= 80:\n",
    "    grade = \"甲\"\n",
    "elif score >= 70:\n",
    "    grade = \"乙\"\n",
    "elif score >= 60:\n",
    "    grade = \"丙\"\n",
    "else:\n",
    "    grade = \"丁\"\n",
    "print(f'成績等級為:{grade}')"
   ]
  },
  {
   "cell_type": "code",
   "execution_count": 23,
   "id": "79f068d5",
   "metadata": {},
   "outputs": [
    {
     "name": "stdout",
     "output_type": "stream",
     "text": [
      "輸入顧客購買金額5000\n",
      "實付金額是:5000\n"
     ]
    }
   ],
   "source": [
    "money = int(input(\"輸入顧客購買金額\"))\n",
    "if money >= 100000 :\n",
    "    paymoney = money * 0.8\n",
    "elif money >= 50000 :\n",
    "    paymoney = money * 0.85\n",
    "elif money >= 30000 :\n",
    "    paymoney = money * 0.9\n",
    "elif money >= 10000 :\n",
    "    paymoney = money * 0.95\n",
    "else:\n",
    "    paymoney = money\n",
    "print(f'實付金額是:{paymoney}')"
   ]
  },
  {
   "cell_type": "code",
   "execution_count": 27,
   "id": "b5403620",
   "metadata": {},
   "outputs": [
    {
     "name": "stdout",
     "output_type": "stream",
     "text": [
      "請輸入國文成績100\n",
      "請輸入英文成績100\n",
      "獎金是1000\n"
     ]
    }
   ],
   "source": [
    "#巢狀判斷\n",
    "#2個條件\n",
    "chinese = int(input('請輸入國文成績'))\n",
    "english = int(input('請輸入英文成績'))\n",
    "\n",
    "if chinese == 100:\n",
    "    if english == 100 :\n",
    "        bonus = 1000\n",
    "    else:\n",
    "        bonus = 500\n",
    "else:\n",
    "    if english == 100:\n",
    "        bonus = 500\n",
    "    else:\n",
    "        bonus = 0\n",
    "print(f\"獎金是{bonus}\")"
   ]
  },
  {
   "cell_type": "code",
   "execution_count": 28,
   "id": "3df655a0",
   "metadata": {},
   "outputs": [
    {
     "name": "stdout",
     "output_type": "stream",
     "text": [
      "a1是None\n"
     ]
    }
   ],
   "source": [
    "#python 沒有null 用none\n",
    "a1 = None\n",
    "if a1 == None:\n",
    "    print(\"a1是None\")"
   ]
  },
  {
   "cell_type": "code",
   "execution_count": 29,
   "id": "37ffea96",
   "metadata": {},
   "outputs": [
    {
     "name": "stdout",
     "output_type": "stream",
     "text": [
      "a1是None\n"
     ]
    }
   ],
   "source": [
    "#is 運算子\n",
    "if a1 is None:\n",
    "    print(\"a1是None\")"
   ]
  },
  {
   "cell_type": "code",
   "execution_count": 30,
   "id": "66401bc8",
   "metadata": {},
   "outputs": [
    {
     "name": "stdout",
     "output_type": "stream",
     "text": [
      "a1是None\n"
     ]
    }
   ],
   "source": [
    "# is not\n",
    "\n",
    "if a1 is not None:\n",
    "    print(\"a1不是None\")\n",
    "else:\n",
    "    print(\"a1是None\")"
   ]
  },
  {
   "cell_type": "code",
   "execution_count": null,
   "id": "97db8726",
   "metadata": {},
   "outputs": [],
   "source": [
    "--- \n",
    "邏輯運算符號\n",
    "\n",
    "and 左右兩個條件都為真，否則為假----2元運算子\n",
    "or 左右兩個條件只要一個為真就是真，否則為假----2元運算子\n",
    "not 條件諾為真則改為假 ，若假則改為真----1元運算子\n",
    "---"
   ]
  },
  {
   "cell_type": "code",
   "execution_count": 33,
   "id": "522b47c8",
   "metadata": {},
   "outputs": [
    {
     "name": "stdout",
     "output_type": "stream",
     "text": [
      "請輸入國文成績50\n",
      "請輸入英文成績100\n",
      "獎金是500\n"
     ]
    }
   ],
   "source": [
    "#邏輯運算子\n",
    "#2個條件\n",
    "\n",
    "chinese = int(input(\"請輸入國文成績\"))\n",
    "english = int(input(\"請輸入英文成績\"))\n",
    "\n",
    "if chinese == 100 and english == 100:\n",
    "    bonus = 1000\n",
    "elif chinese == 100 or english == 100:\n",
    "    bonus = 500\n",
    "else:\n",
    "    bonus = 0\n",
    "print(f\"獎金是{bonus}\")"
   ]
  },
  {
   "cell_type": "code",
   "execution_count": 34,
   "id": "fc8a2616",
   "metadata": {},
   "outputs": [
    {
     "name": "stdout",
     "output_type": "stream",
     "text": [
      "hello\n",
      "hello\n",
      "hello\n",
      "hello\n",
      "hello\n",
      "hello\n",
      "hello\n",
      "hello\n",
      "hello\n",
      "hello\n"
     ]
    }
   ],
   "source": [
    "for _ in range(10):\n",
    "    print(\"hello\")"
   ]
  },
  {
   "cell_type": "code",
   "execution_count": null,
   "id": "3ecd11c6",
   "metadata": {},
   "outputs": [],
   "source": []
  }
 ],
 "metadata": {
  "kernelspec": {
   "display_name": "Python 3 (ipykernel)",
   "language": "python",
   "name": "python3"
  },
  "language_info": {
   "codemirror_mode": {
    "name": "ipython",
    "version": 3
   },
   "file_extension": ".py",
   "mimetype": "text/x-python",
   "name": "python",
   "nbconvert_exporter": "python",
   "pygments_lexer": "ipython3",
   "version": "3.8.7"
  }
 },
 "nbformat": 4,
 "nbformat_minor": 5
}
