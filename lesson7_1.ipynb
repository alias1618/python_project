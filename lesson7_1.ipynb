{
 "cells": [
  {
   "cell_type": "code",
   "execution_count": 1,
   "id": "fecd203d",
   "metadata": {},
   "outputs": [
    {
     "name": "stdout",
     "output_type": "stream",
     "text": [
      "呼叫函式\n"
     ]
    }
   ],
   "source": [
    "def func_sum(): #自訂的function,沒有參數,沒有傳出值function\n",
    "    print(\"呼叫函式\")\n",
    "    return\n",
    "func_sum()"
   ]
  },
  {
   "cell_type": "code",
   "execution_count": 2,
   "id": "65d4716e",
   "metadata": {},
   "outputs": [
    {
     "data": {
      "text/plain": [
       "15"
      ]
     },
     "execution_count": 2,
     "metadata": {},
     "output_type": "execute_result"
    }
   ],
   "source": [
    "def func_add(a, b):\n",
    "    return a+b\n",
    "\n",
    "result = func_add(10, 5)\n",
    "result"
   ]
  },
  {
   "cell_type": "code",
   "execution_count": 3,
   "id": "dd393f48",
   "metadata": {},
   "outputs": [
    {
     "name": "stdout",
     "output_type": "stream",
     "text": [
      "相加的值:13\n",
      "餘數的值:1\n",
      "相乘的值:30\n"
     ]
    }
   ],
   "source": [
    "def func_many(a, b): #2個參數,傳出3個元素的tuple\n",
    "    add = a + b\n",
    "    remain = a % b\n",
    "    mul = a * b\n",
    "    return (add, remain, mul)\n",
    "\n",
    "(add, remain, mul) = func_many(10, 3) #tuple的折解法\n",
    "print(f\"相加的值:{add}\")\n",
    "print(f\"餘數的值:{remain}\")\n",
    "print(f\"相乘的值:{mul}\")"
   ]
  },
  {
   "cell_type": "code",
   "execution_count": 6,
   "id": "a14c2dfa",
   "metadata": {},
   "outputs": [
    {
     "name": "stdout",
     "output_type": "stream",
     "text": [
      "5\n",
      "相加的值:13\n",
      "餘數的值:1\n",
      "相乘的值:30\n"
     ]
    }
   ],
   "source": [
    "#add,remain,mul, x 是全域變數, def 內的是區域變數 全域和區域變數記憶體儲存位置不同\n",
    "add = 9\n",
    "remain = 9\n",
    "mul = 9\n",
    "x = 5\n",
    "def func_many(a, b): #2個參數,傳出3個元素的tuple    \n",
    "    print(x)\n",
    "    add = a + b\n",
    "    remain = a % b\n",
    "    mul = a * b\n",
    "    return (add, remain, mul)\n",
    "\n",
    "(add, remain, mul) = func_many(10, 3) #tuple的折解法\n",
    "print(f\"相加的值:{add}\")\n",
    "print(f\"餘數的值:{remain}\")\n",
    "print(f\"相乘的值:{mul}\")"
   ]
  },
  {
   "cell_type": "code",
   "execution_count": null,
   "id": "67d29bcb",
   "metadata": {},
   "outputs": [],
   "source": []
  }
 ],
 "metadata": {
  "kernelspec": {
   "display_name": "Python 3 (ipykernel)",
   "language": "python",
   "name": "python3"
  },
  "language_info": {
   "codemirror_mode": {
    "name": "ipython",
    "version": 3
   },
   "file_extension": ".py",
   "mimetype": "text/x-python",
   "name": "python",
   "nbconvert_exporter": "python",
   "pygments_lexer": "ipython3",
   "version": "3.8.7"
  }
 },
 "nbformat": 4,
 "nbformat_minor": 5
}
