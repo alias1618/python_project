{
 "cells": [
  {
   "cell_type": "code",
   "execution_count": 1,
   "id": "12da0ee5",
   "metadata": {},
   "outputs": [
    {
     "name": "stdout",
     "output_type": "stream",
     "text": [
      "位置引數的tuple:()\n",
      "位置引數的tuple:(3, 2, 1, 'wait!', 'uh.....')\n"
     ]
    }
   ],
   "source": [
    "def print_args(*args):\n",
    "    print(f\"位置引數的tuple:{args}\")\n",
    "\n",
    "print_args()\n",
    "print_args(3, 2, 1, 'wait!', 'uh.....')"
   ]
  },
  {
   "cell_type": "code",
   "execution_count": 2,
   "id": "0026b958",
   "metadata": {},
   "outputs": [
    {
     "name": "stdout",
     "output_type": "stream",
     "text": [
      "第一個參數:cap\n",
      "第二個參數:gloves\n",
      "第3個參數:('scarf', 'monocle', 'mustache wax')\n"
     ]
    }
   ],
   "source": [
    "def print_more(required1, required2, *args):\n",
    "    print(f\"第一個參數:{required1}\")\n",
    "    print(f\"第二個參數:{required2}\")\n",
    "    print(f\"第3個參數:{args}\")\n",
    "\n",
    "print_more('cap', 'gloves', 'scarf', 'monocle', 'mustache wax')"
   ]
  },
  {
   "cell_type": "code",
   "execution_count": 3,
   "id": "53a2fb4b",
   "metadata": {},
   "outputs": [
    {
     "name": "stdout",
     "output_type": "stream",
     "text": [
      "所有的引數名稱是:{'wine': 'merlot', 'entree': 'mutton', 'dessert': 'macaroon'}\n"
     ]
    }
   ],
   "source": [
    "#**kwargs -> 不限數量的引數名稱\n",
    "def print_kwargs(**kwargs):\n",
    "    print(f\"所有的引數名稱是:{kwargs}\")\n",
    "\n",
    "print_kwargs(wine='merlot', entree='mutton', dessert='macaroon')"
   ]
  },
  {
   "cell_type": "code",
   "execution_count": 4,
   "id": "c591df33",
   "metadata": {},
   "outputs": [
    {
     "name": "stdout",
     "output_type": "stream",
     "text": [
      "第1個參數:白酒\n",
      "第2個參數:牛排\n",
      "第3個參數:蛋糕\n",
      "所有的引數名稱是:{'a': '1', 'b': 2, 'c': 3.45}\n"
     ]
    }
   ],
   "source": [
    "def print_more_kwargs(wine,entree,dessert,**kwargs):\n",
    "    print(f'第1個參數:{wine}')\n",
    "    print(f'第2個參數:{entree}')\n",
    "    print(f'第3個參數:{dessert}')\n",
    "    print(f\"所有的引數名稱是:{kwargs}\")\n",
    "\n",
    "print_more_kwargs('白酒','牛排','蛋糕',a='1', b=2, c=3.45)"
   ]
  },
  {
   "cell_type": "code",
   "execution_count": 5,
   "id": "48bc3098",
   "metadata": {},
   "outputs": [
    {
     "name": "stdout",
     "output_type": "stream",
     "text": [
      "1 2 3 4\n"
     ]
    }
   ],
   "source": [
    "def func_nums(a,b,c,d):\n",
    "    print(a,b,c,d)\n",
    "    \n",
    "#呼叫使用*,解開資料\n",
    "nums = 1, 2, 3, 4\n",
    "func_nums(*nums)"
   ]
  },
  {
   "cell_type": "code",
   "execution_count": 6,
   "id": "04bffed9",
   "metadata": {},
   "outputs": [
    {
     "name": "stdout",
     "output_type": "stream",
     "text": [
      "參數是:{'city': 'Taipei', 'job': 'Engineer'}\n"
     ]
    }
   ],
   "source": [
    "def func_person(**kwargs):\n",
    "    print(f'參數是:{kwargs}')\n",
    "    \n",
    "n = {'city':'Taipei', 'job':'Engineer'}\n",
    "\n",
    "func_person(**n)"
   ]
  },
  {
   "cell_type": "code",
   "execution_count": 7,
   "id": "c62fea9c",
   "metadata": {},
   "outputs": [
    {
     "name": "stdout",
     "output_type": "stream",
     "text": [
      "Help on function print_if_true in module __main__:\n",
      "\n",
      "print_if_true(thing, check)\n",
      "    如果第2個參數是True,就列印第一個參數thing\n",
      "\n"
     ]
    }
   ],
   "source": [
    "#DocString -> 說明文字\n",
    "\n",
    "def print_if_true(thing, check):\n",
    "    '''\n",
    "    如果第2個參數是True,就列印第一個參數thing\n",
    "    '''\n",
    "    if check:\n",
    "        print(thing)\n",
    "\n",
    "help(print_if_true)"
   ]
  },
  {
   "cell_type": "code",
   "execution_count": 8,
   "id": "3f3c3463",
   "metadata": {},
   "outputs": [
    {
     "data": {
      "text/plain": [
       "'\\n    如果第2個參數是True,就列印第一個參數thing\\n    '"
      ]
     },
     "execution_count": 8,
     "metadata": {},
     "output_type": "execute_result"
    }
   ],
   "source": [
    "print_if_true.__doc__"
   ]
  },
  {
   "cell_type": "code",
   "execution_count": 9,
   "id": "29241e5f",
   "metadata": {},
   "outputs": [
    {
     "name": "stdout",
     "output_type": "stream",
     "text": [
      "print(value, ..., sep=' ', end='\\n', file=sys.stdout, flush=False)\n",
      "\n",
      "Prints the values to a stream, or to sys.stdout by default.\n",
      "Optional keyword arguments:\n",
      "file:  a file-like object (stream); defaults to the current sys.stdout.\n",
      "sep:   string inserted between values, default a space.\n",
      "end:   string appended after the last value, default a newline.\n",
      "flush: whether to forcibly flush the stream.\n"
     ]
    }
   ],
   "source": [
    "print(print.__doc__)"
   ]
  },
  {
   "cell_type": "code",
   "execution_count": null,
   "id": "1ff43e3a",
   "metadata": {},
   "outputs": [],
   "source": []
  }
 ],
 "metadata": {
  "kernelspec": {
   "display_name": "Python 3 (ipykernel)",
   "language": "python",
   "name": "python3"
  },
  "language_info": {
   "codemirror_mode": {
    "name": "ipython",
    "version": 3
   },
   "file_extension": ".py",
   "mimetype": "text/x-python",
   "name": "python",
   "nbconvert_exporter": "python",
   "pygments_lexer": "ipython3",
   "version": "3.8.7"
  }
 },
 "nbformat": 4,
 "nbformat_minor": 5
}
