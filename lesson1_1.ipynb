{
 "cells": [
  {
   "cell_type": "code",
   "execution_count": 1,
   "id": "886a258f",
   "metadata": {},
   "outputs": [
    {
     "name": "stdout",
     "output_type": "stream",
     "text": [
      "Hello! Python\n",
      "Hello! 這是第一節課\n",
      "jupyter notebook\n"
     ]
    }
   ],
   "source": [
    "print(\"Hello! Python\")\n",
    "print(\"Hello! 這是第一節課\")\n",
    "print(\"jupyter notebook\")"
   ]
  },
  {
   "cell_type": "code",
   "execution_count": 2,
   "id": "5d2809ba",
   "metadata": {},
   "outputs": [
    {
     "name": "stdout",
     "output_type": "stream",
     "text": [
      "Hello! Python Hello! jupyter note\n"
     ]
    }
   ],
   "source": [
    "print(\"Hello! Python\",\"Hello!\",\"jupyter note\")"
   ]
  },
  {
   "cell_type": "code",
   "execution_count": 3,
   "id": "100edb46",
   "metadata": {},
   "outputs": [
    {
     "name": "stdout",
     "output_type": "stream",
     "text": [
      "國文= 98\n",
      "英文= 76\n",
      "數學= 85\n",
      "總分= 259\n"
     ]
    }
   ],
   "source": [
    "chinese = 98\n",
    "english = 76\n",
    "math = 85\n",
    "sum = chinese + english + math\n",
    "print(\"國文=\",chinese)\n",
    "print(\"英文=\",english)\n",
    "print(\"數學=\",math)\n",
    "print(\"總分=\",sum)"
   ]
  },
  {
   "cell_type": "code",
   "execution_count": null,
   "id": "e28769e1",
   "metadata": {},
   "outputs": [],
   "source": []
  }
 ],
 "metadata": {
  "kernelspec": {
   "display_name": "Python 3 (ipykernel)",
   "language": "python",
   "name": "python3"
  },
  "language_info": {
   "codemirror_mode": {
    "name": "ipython",
    "version": 3
   },
   "file_extension": ".py",
   "mimetype": "text/x-python",
   "name": "python",
   "nbconvert_exporter": "python",
   "pygments_lexer": "ipython3",
   "version": "3.8.7"
  }
 },
 "nbformat": 4,
 "nbformat_minor": 5
}
