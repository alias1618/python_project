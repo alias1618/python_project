{
 "cells": [
  {
   "cell_type": "code",
   "execution_count": 1,
   "id": "c9d3f068",
   "metadata": {},
   "outputs": [
    {
     "name": "stdout",
     "output_type": "stream",
     "text": [
      "Collecting jupyterthemes\n",
      "  Downloading jupyterthemes-0.20.0-py2.py3-none-any.whl (7.0 MB)\n",
      "Requirement already satisfied: jupyter-core in f:\\python_project\\project_20220212\\venv1\\lib\\site-packages (from jupyterthemes) (4.9.1)\n",
      "Requirement already satisfied: ipython>=5.4.1 in f:\\python_project\\project_20220212\\venv1\\lib\\site-packages (from jupyterthemes) (8.0.1)\n",
      "Collecting lesscpy>=0.11.2\n",
      "  Downloading lesscpy-0.15.0-py2.py3-none-any.whl (46 kB)\n",
      "Collecting matplotlib>=1.4.3\n",
      "  Downloading matplotlib-3.5.1-cp38-cp38-win_amd64.whl (7.2 MB)\n",
      "Requirement already satisfied: notebook>=5.6.0 in f:\\python_project\\project_20220212\\venv1\\lib\\site-packages (from jupyterthemes) (6.4.8)\n",
      "Requirement already satisfied: decorator in f:\\python_project\\project_20220212\\venv1\\lib\\site-packages (from ipython>=5.4.1->jupyterthemes) (5.1.1)\n",
      "Requirement already satisfied: black in f:\\python_project\\project_20220212\\venv1\\lib\\site-packages (from ipython>=5.4.1->jupyterthemes) (22.1.0)\n",
      "Requirement already satisfied: pickleshare in f:\\python_project\\project_20220212\\venv1\\lib\\site-packages (from ipython>=5.4.1->jupyterthemes) (0.7.5)\n",
      "Requirement already satisfied: traitlets>=5 in f:\\python_project\\project_20220212\\venv1\\lib\\site-packages (from ipython>=5.4.1->jupyterthemes) (5.1.1)\n",
      "Requirement already satisfied: stack-data in f:\\python_project\\project_20220212\\venv1\\lib\\site-packages (from ipython>=5.4.1->jupyterthemes) (0.1.4)\n",
      "Requirement already satisfied: matplotlib-inline in f:\\python_project\\project_20220212\\venv1\\lib\\site-packages (from ipython>=5.4.1->jupyterthemes) (0.1.3)\n",
      "Requirement already satisfied: colorama in f:\\python_project\\project_20220212\\venv1\\lib\\site-packages (from ipython>=5.4.1->jupyterthemes) (0.4.4)\n",
      "Requirement already satisfied: backcall in f:\\python_project\\project_20220212\\venv1\\lib\\site-packages (from ipython>=5.4.1->jupyterthemes) (0.2.0)\n",
      "Requirement already satisfied: setuptools>=18.5 in f:\\python_project\\project_20220212\\venv1\\lib\\site-packages (from ipython>=5.4.1->jupyterthemes) (57.0.0)\n",
      "Requirement already satisfied: jedi>=0.16 in f:\\python_project\\project_20220212\\venv1\\lib\\site-packages (from ipython>=5.4.1->jupyterthemes) (0.18.1)\n",
      "Requirement already satisfied: prompt-toolkit!=3.0.0,!=3.0.1,<3.1.0,>=2.0.0 in f:\\python_project\\project_20220212\\venv1\\lib\\site-packages (from ipython>=5.4.1->jupyterthemes) (3.0.28)\n",
      "Requirement already satisfied: pygments in f:\\python_project\\project_20220212\\venv1\\lib\\site-packages (from ipython>=5.4.1->jupyterthemes) (2.11.2)\n",
      "Requirement already satisfied: parso<0.9.0,>=0.8.0 in f:\\python_project\\project_20220212\\venv1\\lib\\site-packages (from jedi>=0.16->ipython>=5.4.1->jupyterthemes) (0.8.3)\n",
      "Requirement already satisfied: six in f:\\python_project\\project_20220212\\venv1\\lib\\site-packages (from lesscpy>=0.11.2->jupyterthemes) (1.16.0)\n",
      "Collecting ply\n",
      "  Downloading ply-3.11-py2.py3-none-any.whl (49 kB)\n",
      "Collecting numpy>=1.17\n",
      "  Downloading numpy-1.22.2-cp38-cp38-win_amd64.whl (14.7 MB)\n",
      "Collecting fonttools>=4.22.0\n",
      "  Downloading fonttools-4.29.1-py3-none-any.whl (895 kB)\n",
      "Collecting pillow>=6.2.0\n",
      "  Downloading Pillow-9.0.1-cp38-cp38-win_amd64.whl (3.2 MB)\n",
      "Requirement already satisfied: pyparsing>=2.2.1 in f:\\python_project\\project_20220212\\venv1\\lib\\site-packages (from matplotlib>=1.4.3->jupyterthemes) (3.0.7)\n",
      "Collecting cycler>=0.10\n",
      "  Downloading cycler-0.11.0-py3-none-any.whl (6.4 kB)\n",
      "Requirement already satisfied: packaging>=20.0 in f:\\python_project\\project_20220212\\venv1\\lib\\site-packages (from matplotlib>=1.4.3->jupyterthemes) (21.3)\n",
      "Collecting kiwisolver>=1.0.1\n",
      "  Downloading kiwisolver-1.3.2-cp38-cp38-win_amd64.whl (52 kB)\n",
      "Requirement already satisfied: python-dateutil>=2.7 in f:\\python_project\\project_20220212\\venv1\\lib\\site-packages (from matplotlib>=1.4.3->jupyterthemes) (2.8.2)\n",
      "Requirement already satisfied: jupyter-client>=5.3.4 in f:\\python_project\\project_20220212\\venv1\\lib\\site-packages (from notebook>=5.6.0->jupyterthemes) (7.1.2)\n",
      "Requirement already satisfied: Send2Trash>=1.8.0 in f:\\python_project\\project_20220212\\venv1\\lib\\site-packages (from notebook>=5.6.0->jupyterthemes) (1.8.0)\n",
      "Requirement already satisfied: argon2-cffi in f:\\python_project\\project_20220212\\venv1\\lib\\site-packages (from notebook>=5.6.0->jupyterthemes) (21.3.0)\n",
      "Requirement already satisfied: terminado>=0.8.3 in f:\\python_project\\project_20220212\\venv1\\lib\\site-packages (from notebook>=5.6.0->jupyterthemes) (0.13.1)\n",
      "Requirement already satisfied: ipython-genutils in f:\\python_project\\project_20220212\\venv1\\lib\\site-packages (from notebook>=5.6.0->jupyterthemes) (0.2.0)\n",
      "Requirement already satisfied: pyzmq>=17 in f:\\python_project\\project_20220212\\venv1\\lib\\site-packages (from notebook>=5.6.0->jupyterthemes) (22.3.0)\n",
      "Requirement already satisfied: ipykernel in f:\\python_project\\project_20220212\\venv1\\lib\\site-packages (from notebook>=5.6.0->jupyterthemes) (6.9.0)\n",
      "Requirement already satisfied: jinja2 in f:\\python_project\\project_20220212\\venv1\\lib\\site-packages (from notebook>=5.6.0->jupyterthemes) (3.0.3)\n",
      "Requirement already satisfied: nbconvert in f:\\python_project\\project_20220212\\venv1\\lib\\site-packages (from notebook>=5.6.0->jupyterthemes) (6.4.2)\n",
      "Requirement already satisfied: nbformat in f:\\python_project\\project_20220212\\venv1\\lib\\site-packages (from notebook>=5.6.0->jupyterthemes) (5.1.3)\n",
      "Requirement already satisfied: nest-asyncio>=1.5 in f:\\python_project\\project_20220212\\venv1\\lib\\site-packages (from notebook>=5.6.0->jupyterthemes) (1.5.4)\n",
      "Requirement already satisfied: prometheus-client in f:\\python_project\\project_20220212\\venv1\\lib\\site-packages (from notebook>=5.6.0->jupyterthemes) (0.13.1)\n",
      "Requirement already satisfied: tornado>=6.1 in f:\\python_project\\project_20220212\\venv1\\lib\\site-packages (from notebook>=5.6.0->jupyterthemes) (6.1)\n",
      "Requirement already satisfied: entrypoints in f:\\python_project\\project_20220212\\venv1\\lib\\site-packages (from jupyter-client>=5.3.4->notebook>=5.6.0->jupyterthemes) (0.4)\n",
      "Requirement already satisfied: pywin32>=1.0 in f:\\python_project\\project_20220212\\venv1\\lib\\site-packages (from jupyter-core->jupyterthemes) (303)\n",
      "Requirement already satisfied: wcwidth in f:\\python_project\\project_20220212\\venv1\\lib\\site-packages (from prompt-toolkit!=3.0.0,!=3.0.1,<3.1.0,>=2.0.0->ipython>=5.4.1->jupyterthemes) (0.2.5)\n",
      "Requirement already satisfied: pywinpty>=1.1.0 in f:\\python_project\\project_20220212\\venv1\\lib\\site-packages (from terminado>=0.8.3->notebook>=5.6.0->jupyterthemes) (2.0.2)\n",
      "Requirement already satisfied: argon2-cffi-bindings in f:\\python_project\\project_20220212\\venv1\\lib\\site-packages (from argon2-cffi->notebook>=5.6.0->jupyterthemes) (21.2.0)\n",
      "Requirement already satisfied: cffi>=1.0.1 in f:\\python_project\\project_20220212\\venv1\\lib\\site-packages (from argon2-cffi-bindings->argon2-cffi->notebook>=5.6.0->jupyterthemes) (1.15.0)\n",
      "Requirement already satisfied: pycparser in f:\\python_project\\project_20220212\\venv1\\lib\\site-packages (from cffi>=1.0.1->argon2-cffi-bindings->argon2-cffi->notebook>=5.6.0->jupyterthemes) (2.21)\n",
      "Requirement already satisfied: tomli>=1.1.0 in f:\\python_project\\project_20220212\\venv1\\lib\\site-packages (from black->ipython>=5.4.1->jupyterthemes) (2.0.1)\n",
      "Requirement already satisfied: click>=8.0.0 in f:\\python_project\\project_20220212\\venv1\\lib\\site-packages (from black->ipython>=5.4.1->jupyterthemes) (8.0.3)\n",
      "Requirement already satisfied: platformdirs>=2 in f:\\python_project\\project_20220212\\venv1\\lib\\site-packages (from black->ipython>=5.4.1->jupyterthemes) (2.5.0)\n",
      "Requirement already satisfied: pathspec>=0.9.0 in f:\\python_project\\project_20220212\\venv1\\lib\\site-packages (from black->ipython>=5.4.1->jupyterthemes) (0.9.0)\n",
      "Requirement already satisfied: typing-extensions>=3.10.0.0 in f:\\python_project\\project_20220212\\venv1\\lib\\site-packages (from black->ipython>=5.4.1->jupyterthemes) (4.0.1)\n",
      "Requirement already satisfied: mypy-extensions>=0.4.3 in f:\\python_project\\project_20220212\\venv1\\lib\\site-packages (from black->ipython>=5.4.1->jupyterthemes) (0.4.3)\n",
      "Requirement already satisfied: debugpy<2.0,>=1.0.0 in f:\\python_project\\project_20220212\\venv1\\lib\\site-packages (from ipykernel->notebook>=5.6.0->jupyterthemes) (1.5.1)\n",
      "Requirement already satisfied: MarkupSafe>=2.0 in f:\\python_project\\project_20220212\\venv1\\lib\\site-packages (from jinja2->notebook>=5.6.0->jupyterthemes) (2.0.1)\n",
      "Requirement already satisfied: nbclient<0.6.0,>=0.5.0 in f:\\python_project\\project_20220212\\venv1\\lib\\site-packages (from nbconvert->notebook>=5.6.0->jupyterthemes) (0.5.10)\n",
      "Requirement already satisfied: bleach in f:\\python_project\\project_20220212\\venv1\\lib\\site-packages (from nbconvert->notebook>=5.6.0->jupyterthemes) (4.1.0)\n",
      "Requirement already satisfied: pandocfilters>=1.4.1 in f:\\python_project\\project_20220212\\venv1\\lib\\site-packages (from nbconvert->notebook>=5.6.0->jupyterthemes) (1.5.0)\n",
      "Requirement already satisfied: testpath in f:\\python_project\\project_20220212\\venv1\\lib\\site-packages (from nbconvert->notebook>=5.6.0->jupyterthemes) (0.5.0)\n",
      "Requirement already satisfied: mistune<2,>=0.8.1 in f:\\python_project\\project_20220212\\venv1\\lib\\site-packages (from nbconvert->notebook>=5.6.0->jupyterthemes) (0.8.4)\n",
      "Requirement already satisfied: defusedxml in f:\\python_project\\project_20220212\\venv1\\lib\\site-packages (from nbconvert->notebook>=5.6.0->jupyterthemes) (0.7.1)\n",
      "Requirement already satisfied: jupyterlab-pygments in f:\\python_project\\project_20220212\\venv1\\lib\\site-packages (from nbconvert->notebook>=5.6.0->jupyterthemes) (0.1.2)\n",
      "Requirement already satisfied: jsonschema!=2.5.0,>=2.4 in f:\\python_project\\project_20220212\\venv1\\lib\\site-packages (from nbformat->notebook>=5.6.0->jupyterthemes) (4.4.0)\n",
      "Requirement already satisfied: pyrsistent!=0.17.0,!=0.17.1,!=0.17.2,>=0.14.0 in f:\\python_project\\project_20220212\\venv1\\lib\\site-packages (from jsonschema!=2.5.0,>=2.4->nbformat->notebook>=5.6.0->jupyterthemes) (0.18.1)\n",
      "Requirement already satisfied: importlib-resources>=1.4.0 in f:\\python_project\\project_20220212\\venv1\\lib\\site-packages (from jsonschema!=2.5.0,>=2.4->nbformat->notebook>=5.6.0->jupyterthemes) (5.4.0)\n",
      "Requirement already satisfied: attrs>=17.4.0 in f:\\python_project\\project_20220212\\venv1\\lib\\site-packages (from jsonschema!=2.5.0,>=2.4->nbformat->notebook>=5.6.0->jupyterthemes) (21.4.0)\n",
      "Requirement already satisfied: zipp>=3.1.0 in f:\\python_project\\project_20220212\\venv1\\lib\\site-packages (from importlib-resources>=1.4.0->jsonschema!=2.5.0,>=2.4->nbformat->notebook>=5.6.0->jupyterthemes) (3.7.0)\n",
      "Requirement already satisfied: webencodings in f:\\python_project\\project_20220212\\venv1\\lib\\site-packages (from bleach->nbconvert->notebook>=5.6.0->jupyterthemes) (0.5.1)\n",
      "Requirement already satisfied: asttokens in f:\\python_project\\project_20220212\\venv1\\lib\\site-packages (from stack-data->ipython>=5.4.1->jupyterthemes) (2.0.5)\n",
      "Requirement already satisfied: executing in f:\\python_project\\project_20220212\\venv1\\lib\\site-packages (from stack-data->ipython>=5.4.1->jupyterthemes) (0.8.2)\n",
      "Requirement already satisfied: pure-eval in f:\\python_project\\project_20220212\\venv1\\lib\\site-packages (from stack-data->ipython>=5.4.1->jupyterthemes) (0.2.2)\n",
      "Installing collected packages: ply, pillow, numpy, kiwisolver, fonttools, cycler, matplotlib, lesscpy, jupyterthemes\n",
      "Successfully installed cycler-0.11.0 fonttools-4.29.1 jupyterthemes-0.20.0 kiwisolver-1.3.2 lesscpy-0.15.0 matplotlib-3.5.1 numpy-1.22.2 pillow-9.0.1 ply-3.11\n",
      "Note: you may need to restart the kernel to use updated packages.\n"
     ]
    },
    {
     "name": "stderr",
     "output_type": "stream",
     "text": [
      "WARNING: You are using pip version 21.1.2; however, version 22.0.3 is available.\n",
      "You should consider upgrading via the 'f:\\python_project\\project_20220212\\venv1\\scripts\\python.exe -m pip install --upgrade pip' command.\n"
     ]
    }
   ],
   "source": [
    "pip install jupyterthemes"
   ]
  },
  {
   "cell_type": "code",
   "execution_count": 3,
   "id": "bf3e2fc1",
   "metadata": {},
   "outputs": [
    {
     "name": "stdout",
     "output_type": "stream",
     "text": [
      "Available Themes: \n",
      "   chesterish\n",
      "   grade3\n",
      "   gruvboxd\n",
      "   gruvboxl\n",
      "   monokai\n",
      "   oceans16\n",
      "   onedork\n",
      "   solarizedd\n",
      "   solarizedl\n"
     ]
    }
   ],
   "source": [
    "!jt -l"
   ]
  },
  {
   "cell_type": "code",
   "execution_count": 12,
   "id": "8f6f6748",
   "metadata": {},
   "outputs": [],
   "source": [
    "!jt -t monokai -f fira -fs 13 -cellw 90% -ofs 11 -dfs 11 -T -N"
   ]
  },
  {
   "cell_type": "code",
   "execution_count": 14,
   "id": "51044301",
   "metadata": {},
   "outputs": [],
   "source": [
    "!jt -t monokai -f fira -fs 13 -cellw 90% -ofs 11 -dfs 11 -T -N"
   ]
  },
  {
   "cell_type": "code",
   "execution_count": null,
   "id": "aa581050",
   "metadata": {},
   "outputs": [],
   "source": []
  }
 ],
 "metadata": {
  "kernelspec": {
   "display_name": "Python 3 (ipykernel)",
   "language": "python",
   "name": "python3"
  },
  "language_info": {
   "codemirror_mode": {
    "name": "ipython",
    "version": 3
   },
   "file_extension": ".py",
   "mimetype": "text/x-python",
   "name": "python",
   "nbconvert_exporter": "python",
   "pygments_lexer": "ipython3",
   "version": "3.8.7"
  }
 },
 "nbformat": 4,
 "nbformat_minor": 5
}
