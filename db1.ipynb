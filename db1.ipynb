{
 "cells": [
  {
   "cell_type": "markdown",
   "id": "fd2c0560",
   "metadata": {},
   "source": [
    "import sqlite3\n",
    "from sqlite3 import Error\n",
    "\n",
    "def create_connection(db_name):\n",
    "    conn = sqlite3.connect(db_name)\n",
    "    conn.close()\n",
    "    return conn    \n",
    "   "
   ]
  },
  {
   "cell_type": "code",
   "execution_count": 1,
   "id": "e8e55f59",
   "metadata": {},
   "outputs": [],
   "source": [
    "import sqlite3\n",
    "from sqlite3 import Error\n",
    "\n",
    "def create_connection(db_name):\n",
    "    conn = sqlite3.connect(db_name)\n",
    "    conn.close()\n",
    "    return conn    "
   ]
  },
  {
   "cell_type": "code",
   "execution_count": 2,
   "id": "e03a3be2",
   "metadata": {},
   "outputs": [],
   "source": [
    "_ = create_connection('a.db')"
   ]
  },
  {
   "cell_type": "code",
   "execution_count": 3,
   "id": "d279e286",
   "metadata": {},
   "outputs": [],
   "source": [
    "import sqlite3\n",
    "from sqlite3 import Error\n",
    "\n",
    "def create_connection(db_name):\n",
    "    conn = None\n",
    "    try:\n",
    "        conn = sqlite3.connect(db_name)\n",
    "    except Error as e:\n",
    "        print('連結資料庫發生錯誤')\n",
    "        print(e)\n",
    "    \n",
    "    return conn    "
   ]
  },
  {
   "cell_type": "code",
   "execution_count": 4,
   "id": "2a3db3c7",
   "metadata": {},
   "outputs": [
    {
     "name": "stdout",
     "output_type": "stream",
     "text": [
      "連線成功\n"
     ]
    }
   ],
   "source": [
    "conn = create_connection('a.db')\n",
    "if conn is not None:\n",
    "    print(\"連線成功\")"
   ]
  },
  {
   "cell_type": "code",
   "execution_count": 5,
   "id": "49bf0628",
   "metadata": {},
   "outputs": [
    {
     "name": "stdout",
     "output_type": "stream",
     "text": [
      "連線成功\n"
     ]
    }
   ],
   "source": [
    "conn = create_connection('a.db')\n",
    "if conn is not None:\n",
    "    with conn:  #自動close動作\n",
    "        print(\"連線成功\")"
   ]
  },
  {
   "cell_type": "code",
   "execution_count": 6,
   "id": "4e6e9187",
   "metadata": {},
   "outputs": [],
   "source": [
    "import sqlite3\n",
    "from sqlite3 import Error\n",
    "\n",
    "def create_connection(db_name):\n",
    "    conn = None\n",
    "    try:\n",
    "        conn = sqlite3.connect(db_name)\n",
    "    except Error as e:\n",
    "        print('連結資料庫發生錯誤')\n",
    "        print(e)\n",
    "    \n",
    "    return conn\n",
    "\n",
    "\n",
    "def create_table(conn):\n",
    "    cursor = conn.cursor()\n",
    "    \n",
    "    sql = '''\n",
    "    CREATE TABLE IF NOT EXISTS lot(\n",
    "        id INTEGER PRIMARY KEY,\n",
    "        name TEXT NOT NULL,\n",
    "        num1 INTEGER NOT NULL,\n",
    "        num2 INTEGER NOT NULL,\n",
    "        num3 INTEGER NOT NULL,\n",
    "        num4 INTEGER NOT NULL,\n",
    "        num5 INTEGER NOT NULL,\n",
    "        num6 INTEGER NOT NULL,\n",
    "        spec INTEGER NOT NULL\n",
    "    );\n",
    "    '''\n",
    "    \n",
    "    cursor.execute(sql)\n",
    "    print('資料表建立')"
   ]
  },
  {
   "cell_type": "code",
   "execution_count": 7,
   "id": "361bed3e",
   "metadata": {},
   "outputs": [
    {
     "name": "stdout",
     "output_type": "stream",
     "text": [
      "連線成功\n",
      "資料表建立\n"
     ]
    }
   ],
   "source": [
    "conn = create_connection('lot.db')\n",
    "if conn is not None:\n",
    "    with conn:  #自動close動作\n",
    "        print(\"連線成功\")\n",
    "        create_table(conn)"
   ]
  },
  {
   "cell_type": "code",
   "execution_count": 8,
   "id": "38793a1e",
   "metadata": {},
   "outputs": [],
   "source": [
    "import sqlite3\n",
    "from sqlite3 import Error\n",
    "\n",
    "def create_connection(db_name):\n",
    "    conn = None\n",
    "    try:\n",
    "        conn = sqlite3.connect(db_name)\n",
    "    except Error as e:\n",
    "        print('連結資料庫發生錯誤')\n",
    "        print(e)\n",
    "        return conn\n",
    "    \n",
    "    create_table(conn)    \n",
    "    return conn\n",
    "\n",
    "\n",
    "def create_table(conn):    \n",
    "    \n",
    "    sql = '''\n",
    "    CREATE TABLE IF NOT EXISTS lot(\n",
    "        id INTEGER PRIMARY KEY,\n",
    "        name TEXT NOT NULL,\n",
    "        num1 INTEGER NOT NULL,\n",
    "        num2 INTEGER NOT NULL,\n",
    "        num3 INTEGER NOT NULL,\n",
    "        num4 INTEGER NOT NULL,\n",
    "        num5 INTEGER NOT NULL,\n",
    "        num6 INTEGER NOT NULL,\n",
    "        spec INTEGER NOT NULL,\n",
    "        datetime TEXT\n",
    "    );\n",
    "    '''\n",
    "    try:\n",
    "        cursor = conn.cursor()    \n",
    "        cursor.execute(sql)\n",
    "    except Error as e:\n",
    "        print('建立資料表出錯')\n",
    "        print(e)\n",
    "        return None\n",
    "    \n",
    "    print('資料表建立')\n",
    "    \n"
   ]
  },
  {
   "cell_type": "code",
   "execution_count": 9,
   "id": "1f7f2ad4",
   "metadata": {},
   "outputs": [
    {
     "name": "stdout",
     "output_type": "stream",
     "text": [
      "資料表建立\n",
      "連線成功\n"
     ]
    }
   ],
   "source": [
    "conn = create_connection('lot.db')\n",
    "if conn is not None:\n",
    "    with conn:  #自動close動作\n",
    "        print(\"連線成功\")  "
   ]
  },
  {
   "cell_type": "code",
   "execution_count": 1,
   "id": "5086ae53",
   "metadata": {},
   "outputs": [],
   "source": [
    "import sqlite3\n",
    "from sqlite3 import Error\n",
    "\n",
    "def create_connection(db_name):\n",
    "    conn = None\n",
    "    try:\n",
    "        conn = sqlite3.connect(db_name)\n",
    "    except Error as e:\n",
    "        print('連結資料庫發生錯誤')\n",
    "        print(e)\n",
    "        return conn\n",
    "    \n",
    "    create_table(conn)    \n",
    "    return conn\n",
    "\n",
    "\n",
    "def create_table(conn):    \n",
    "    \n",
    "    sql = '''\n",
    "    CREATE TABLE IF NOT EXISTS lot(\n",
    "        id INTEGER PRIMARY KEY,\n",
    "        name TEXT NOT NULL,\n",
    "        num1 INTEGER NOT NULL,\n",
    "        num2 INTEGER NOT NULL,\n",
    "        num3 INTEGER NOT NULL,\n",
    "        num4 INTEGER NOT NULL,\n",
    "        num5 INTEGER NOT NULL,\n",
    "        num6 INTEGER NOT NULL,\n",
    "        spec INTEGER NOT NULL,\n",
    "        datetime TEXT\n",
    "    );\n",
    "    '''\n",
    "    try:\n",
    "        cursor = conn.cursor()    \n",
    "        cursor.execute(sql)\n",
    "    except Error as e:\n",
    "        print('建立資料表出錯')\n",
    "        print(e)\n",
    "        return None\n",
    "    \n",
    "    print('資料表建立')\n",
    "    \n",
    "def insertData(conn,data_list):\n",
    "    insertSQL = '''INSERT INTO lot (name,num1,num2,num3,num4,num5,num6,spec,datetime) \n",
    "VALUES (?,?,?,?,?,?,?,?,?);'''\n",
    "    cursor = conn.cursor()\n",
    "    cursor.execute(insertSQL,data_list)\n",
    "    conn.commit()   "
   ]
  },
  {
   "cell_type": "code",
   "execution_count": 2,
   "id": "3594449a",
   "metadata": {},
   "outputs": [
    {
     "name": "stdout",
     "output_type": "stream",
     "text": [
      "資料表建立\n",
      "連線成功\n"
     ]
    }
   ],
   "source": [
    "conn = create_connection('lot.db')\n",
    "if conn is not None:\n",
    "    with conn:  #自動close動作\n",
    "        print(\"連線成功\")\n",
    "        insertData(conn,('robert',35,21,25,5,17,36,43,'2022-04-16 11:15:20'))"
   ]
  },
  {
   "cell_type": "code",
   "execution_count": null,
   "id": "22aaa90f",
   "metadata": {},
   "outputs": [],
   "source": []
  }
 ],
 "metadata": {
  "kernelspec": {
   "display_name": "Python 3 (ipykernel)",
   "language": "python",
   "name": "python3"
  },
  "language_info": {
   "codemirror_mode": {
    "name": "ipython",
    "version": 3
   },
   "file_extension": ".py",
   "mimetype": "text/x-python",
   "name": "python",
   "nbconvert_exporter": "python",
   "pygments_lexer": "ipython3",
   "version": "3.8.7"
  }
 },
 "nbformat": 4,
 "nbformat_minor": 5
}
