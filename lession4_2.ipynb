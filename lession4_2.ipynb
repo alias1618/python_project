{
 "cells": [
  {
   "cell_type": "code",
   "execution_count": 1,
   "id": "bb178f58",
   "metadata": {},
   "outputs": [
    {
     "name": "stdout",
     "output_type": "stream",
     "text": [
      "請輸入第1個月份的存款5000\n",
      "請輸入第2個月份的存款3000\n",
      "請輸入第3個月份的存款4000\n",
      "請輸入第4個月份的存款5000\n",
      "請輸入第5個月份的存款8000\n",
      "請輸入第6個月份的存款10000\n",
      "恭喜!已經存夠了，存了6個月的存款:35000\n"
     ]
    }
   ],
   "source": [
    "deposit = 0\n",
    "month = 0\n",
    "while(deposit < 30000):\n",
    "    month += 1\n",
    "    inputNum = int(input(f'請輸入第{month}個月份的存款'))\n",
    "    deposit += inputNum\n",
    "    \n",
    "    \n",
    "print(f\"恭喜!已經存夠了，存了{month}個月的存款:{deposit}\")"
   ]
  },
  {
   "cell_type": "code",
   "execution_count": 2,
   "id": "828e9d45",
   "metadata": {},
   "outputs": [
    {
     "name": "stdout",
     "output_type": "stream",
     "text": [
      "請輸入第1個月份的存款:20000\n",
      "請輸入第2個月份的存款:12000\n",
      "恭喜!已經存夠了,存了2個月的存款為:32000\n"
     ]
    }
   ],
   "source": [
    "deposit = 0\n",
    "num = 0\n",
    "while(True):\n",
    "    if deposit >= 30000:\n",
    "        break\n",
    "    num += 1\n",
    "    inputNum = int(input(f'請輸入第{num}個月份的存款:'))\n",
    "    deposit += inputNum\n",
    "    \n",
    "print(f\"恭喜!已經存夠了,存了{num}個月的存款為:{deposit}\")"
   ]
  },
  {
   "cell_type": "code",
   "execution_count": 3,
   "id": "40d7c9af",
   "metadata": {},
   "outputs": [
    {
     "name": "stdout",
     "output_type": "stream",
     "text": [
      "請輸入整數, 輸入[q]離開:50\n",
      "使用者輸入的整數:50\n",
      "請輸入整數, 輸入[q]離開:60\n",
      "使用者輸入的整數:60\n",
      "請輸入整數, 輸入[q]離開:70\n",
      "使用者輸入的整數:70\n",
      "請輸入整數, 輸入[q]離開:80\n",
      "使用者輸入的整數:80\n",
      "請輸入整數, 輸入[q]離開:q\n",
      "程式結束\n"
     ]
    }
   ],
   "source": [
    "while(True):\n",
    "    value = input(\"請輸入整數, 輸入[q]離開:\")\n",
    "    if value == 'q':\n",
    "        break\n",
    "    print(f'使用者輸入的整數:{value}')\n",
    "print(\"程式結束\")"
   ]
  },
  {
   "cell_type": "code",
   "execution_count": 8,
   "id": "ebd6daa9",
   "metadata": {},
   "outputs": [
    {
     "name": "stdout",
     "output_type": "stream",
     "text": [
      "請輸入整數, 輸入[q]離開:8\n",
      "8的平方是:64\n",
      "請輸入整數, 輸入[q]離開:4\n",
      "4的平方是:16\n",
      "請輸入整數, 輸入[q]離開:2\n",
      "2的平方是:4\n",
      "請輸入整數, 輸入[q]離開:10\n",
      "10的平方是:100\n",
      "請輸入整數, 輸入[q]離開:q\n",
      "程式結束\n"
     ]
    }
   ],
   "source": [
    "while(True):\n",
    "    value = input(\"請輸入整數, 輸入[q]離開:\")\n",
    "    if value == 'q':\n",
    "        break\n",
    "    number = int(value)\n",
    "    if number % 2 == 1:\n",
    "        continue\n",
    "    print(f'{number}的平方是:{number ** 2}')\n",
    "print(\"程式結束\")"
   ]
  },
  {
   "cell_type": "code",
   "execution_count": 16,
   "id": "6813dcb4",
   "metadata": {},
   "outputs": [
    {
     "data": {
      "text/plain": [
       "8"
      ]
     },
     "execution_count": 16,
     "metadata": {},
     "output_type": "execute_result"
    }
   ],
   "source": [
    "import random\n",
    "random.randrange(1,10) #隨機亂數 0-9"
   ]
  },
  {
   "cell_type": "code",
   "execution_count": 19,
   "id": "7539bb81",
   "metadata": {},
   "outputs": [
    {
     "data": {
      "text/plain": [
       "8"
      ]
     },
     "execution_count": 19,
     "metadata": {},
     "output_type": "execute_result"
    }
   ],
   "source": [
    "random.randint(1,10) #隨機亂數 1-10"
   ]
  },
  {
   "cell_type": "code",
   "execution_count": null,
   "id": "f4a2c2e2",
   "metadata": {},
   "outputs": [],
   "source": []
  }
 ],
 "metadata": {
  "kernelspec": {
   "display_name": "Python 3 (ipykernel)",
   "language": "python",
   "name": "python3"
  },
  "language_info": {
   "codemirror_mode": {
    "name": "ipython",
    "version": 3
   },
   "file_extension": ".py",
   "mimetype": "text/x-python",
   "name": "python",
   "nbconvert_exporter": "python",
   "pygments_lexer": "ipython3",
   "version": "3.8.7"
  }
 },
 "nbformat": 4,
 "nbformat_minor": 5
}
