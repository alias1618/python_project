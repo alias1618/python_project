{
 "cells": [
  {
   "cell_type": "code",
   "execution_count": 1,
   "id": "8eb2604b",
   "metadata": {},
   "outputs": [
    {
     "name": "stdout",
     "output_type": "stream",
     "text": [
      "新竹不在裏面\n"
     ]
    }
   ],
   "source": [
    "citys = ['台北', '台中', '高雄', '台南', '花蓮']\n",
    "city = '新竹'\n",
    "if city in citys:\n",
    "    print(f'{city}有在裏面')\n",
    "else:\n",
    "    print(f'{city}不在裏面')"
   ]
  },
  {
   "cell_type": "code",
   "execution_count": 2,
   "id": "ab1767cf",
   "metadata": {},
   "outputs": [
    {
     "data": {
      "text/plain": [
       "{}"
      ]
     },
     "execution_count": 2,
     "metadata": {},
     "output_type": "execute_result"
    }
   ],
   "source": [
    "#dictionary 建立\n",
    "#符號建立空的dictionary\n",
    "empty_dict = {}\n",
    "empty_dict"
   ]
  },
  {
   "cell_type": "code",
   "execution_count": 3,
   "id": "08259c87",
   "metadata": {},
   "outputs": [
    {
     "data": {
      "text/plain": [
       "'Taiwan'"
      ]
     },
     "execution_count": 3,
     "metadata": {},
     "output_type": "execute_result"
    }
   ],
   "source": [
    "codes = {'tw':'Taiwan',\n",
    "         'jp':'Japan',\n",
    "         'hk':'Hong kong'}\n",
    "\n",
    "codes['tw']"
   ]
  },
  {
   "cell_type": "code",
   "execution_count": 4,
   "id": "787037d5",
   "metadata": {},
   "outputs": [
    {
     "data": {
      "text/plain": [
       "'Japan'"
      ]
     },
     "execution_count": 4,
     "metadata": {},
     "output_type": "execute_result"
    }
   ],
   "source": [
    "codes['jp']"
   ]
  },
  {
   "cell_type": "code",
   "execution_count": 5,
   "id": "1e8416aa",
   "metadata": {},
   "outputs": [
    {
     "data": {
      "text/plain": [
       "'Hong kong'"
      ]
     },
     "execution_count": 5,
     "metadata": {},
     "output_type": "execute_result"
    }
   ],
   "source": [
    "codes['hk']"
   ]
  },
  {
   "cell_type": "code",
   "execution_count": 6,
   "id": "bea079c4",
   "metadata": {},
   "outputs": [
    {
     "data": {
      "text/plain": [
       "{}"
      ]
     },
     "execution_count": 6,
     "metadata": {},
     "output_type": "execute_result"
    }
   ],
   "source": [
    "#dict建立空的dictionary\n",
    "empty_dict = dict()\n",
    "empty_dict"
   ]
  },
  {
   "cell_type": "code",
   "execution_count": 7,
   "id": "3aa96d17",
   "metadata": {},
   "outputs": [
    {
     "data": {
      "text/plain": [
       "{'tw': 'Taiwan', 'jp': 'Japan', 'hk': 'Hong kong'}"
      ]
     },
     "execution_count": 7,
     "metadata": {},
     "output_type": "execute_result"
    }
   ],
   "source": [
    "codes = dict([('tw','Taiwan'), ('jp','Japan'), ('hk', 'Hong kong')])\n",
    "codes"
   ]
  },
  {
   "cell_type": "code",
   "execution_count": 8,
   "id": "1200c305",
   "metadata": {},
   "outputs": [],
   "source": [
    "#新增\n",
    "codes['us'] = '美國'"
   ]
  },
  {
   "cell_type": "code",
   "execution_count": 9,
   "id": "4393eb41",
   "metadata": {},
   "outputs": [
    {
     "data": {
      "text/plain": [
       "{'tw': 'Taiwan', 'jp': 'Japan', 'hk': 'Hong kong', 'us': '美國'}"
      ]
     },
     "execution_count": 9,
     "metadata": {},
     "output_type": "execute_result"
    }
   ],
   "source": [
    "codes"
   ]
  },
  {
   "cell_type": "code",
   "execution_count": 10,
   "id": "74402b55",
   "metadata": {},
   "outputs": [
    {
     "data": {
      "text/plain": [
       "{'tw': 'Taiwan', 'jp': 'Japan', 'hk': 'Hong kong', 'us': 'US'}"
      ]
     },
     "execution_count": 10,
     "metadata": {},
     "output_type": "execute_result"
    }
   ],
   "source": [
    "#更改\n",
    "codes['us'] = 'US'\n",
    "codes"
   ]
  },
  {
   "cell_type": "code",
   "execution_count": 11,
   "id": "d23c8c7c",
   "metadata": {},
   "outputs": [
    {
     "data": {
      "text/plain": [
       "{'tw': 'Taiwan', 'jp': 'Japan', 'hk': 'Hong kong'}"
      ]
     },
     "execution_count": 11,
     "metadata": {},
     "output_type": "execute_result"
    }
   ],
   "source": [
    "#刪除\n",
    "del codes['us']\n",
    "codes"
   ]
  },
  {
   "cell_type": "code",
   "execution_count": 12,
   "id": "15a6cd7e",
   "metadata": {},
   "outputs": [
    {
     "data": {
      "text/plain": [
       "{'tw': 'Taiwan', 'jp': 'Japan', 'hk': 'Hong kong'}"
      ]
     },
     "execution_count": 12,
     "metadata": {},
     "output_type": "execute_result"
    }
   ],
   "source": [
    "codes"
   ]
  },
  {
   "cell_type": "code",
   "execution_count": 13,
   "id": "a8df806f",
   "metadata": {},
   "outputs": [
    {
     "data": {
      "text/plain": [
       "['tw', 'jp', 'hk']"
      ]
     },
     "execution_count": 13,
     "metadata": {},
     "output_type": "execute_result"
    }
   ],
   "source": [
    "list(codes.keys())"
   ]
  },
  {
   "cell_type": "code",
   "execution_count": 14,
   "id": "ae6b3660",
   "metadata": {},
   "outputs": [
    {
     "name": "stdout",
     "output_type": "stream",
     "text": [
      "tw\n",
      "jp\n",
      "hk\n"
     ]
    }
   ],
   "source": [
    "for key in codes.keys():\n",
    "    print(key)"
   ]
  },
  {
   "cell_type": "code",
   "execution_count": 15,
   "id": "ad67283b",
   "metadata": {},
   "outputs": [
    {
     "name": "stdout",
     "output_type": "stream",
     "text": [
      "Taiwan\n",
      "Japan\n",
      "Hong kong\n"
     ]
    }
   ],
   "source": [
    "for value in codes.values():\n",
    "    print(value)"
   ]
  },
  {
   "cell_type": "code",
   "execution_count": 16,
   "id": "e26077a2",
   "metadata": {},
   "outputs": [
    {
     "data": {
      "text/plain": [
       "['Taiwan', 'Japan', 'Hong kong']"
      ]
     },
     "execution_count": 16,
     "metadata": {},
     "output_type": "execute_result"
    }
   ],
   "source": [
    "list(codes.values())"
   ]
  },
  {
   "cell_type": "code",
   "execution_count": 17,
   "id": "85a52f53",
   "metadata": {},
   "outputs": [
    {
     "data": {
      "text/plain": [
       "dict_items([('tw', 'Taiwan'), ('jp', 'Japan'), ('hk', 'Hong kong')])"
      ]
     },
     "execution_count": 17,
     "metadata": {},
     "output_type": "execute_result"
    }
   ],
   "source": [
    "codes.items()"
   ]
  },
  {
   "cell_type": "code",
   "execution_count": 25,
   "id": "1afb8ec5",
   "metadata": {},
   "outputs": [
    {
     "name": "stdout",
     "output_type": "stream",
     "text": [
      "tw -> Taiwan\n",
      "jp -> Japan\n",
      "hk -> Hong kong\n"
     ]
    }
   ],
   "source": [
    "for t in codes.items():\n",
    "    print(f\"{t[0]} -> {t[1]}\")"
   ]
  },
  {
   "cell_type": "code",
   "execution_count": 19,
   "id": "7f388fa2",
   "metadata": {},
   "outputs": [
    {
     "name": "stdout",
     "output_type": "stream",
     "text": [
      "tw->Taiwan\n",
      "jp->Japan\n",
      "hk->Hong kong\n"
     ]
    }
   ],
   "source": [
    "#tuple的拆解法\n",
    "\n",
    "for k,v in codes.items():\n",
    "    print(f\"{k}->{v}\")"
   ]
  },
  {
   "cell_type": "code",
   "execution_count": 26,
   "id": "4291f482",
   "metadata": {},
   "outputs": [
    {
     "data": {
      "text/plain": [
       "[{'國文': 76, '英文': 86, '數學': 75, '社會': 65, '自然': 64},\n",
       " {'國文': 77, '英文': 65, '數學': 93, '社會': 81, '自然': 64},\n",
       " {'國文': 100, '英文': 89, '數學': 90, '社會': 76, '自然': 68},\n",
       " {'國文': 95, '英文': 84, '數學': 86, '社會': 77, '自然': 100},\n",
       " {'國文': 93, '英文': 68, '數學': 60, '社會': 85, '自然': 75},\n",
       " {'國文': 89, '英文': 91, '數學': 88, '社會': 69, '自然': 93},\n",
       " {'國文': 78, '英文': 65, '數學': 67, '社會': 70, '自然': 99},\n",
       " {'國文': 96, '英文': 86, '數學': 84, '社會': 76, '自然': 99},\n",
       " {'國文': 77, '英文': 80, '數學': 87, '社會': 68, '自然': 87},\n",
       " {'國文': 74, '英文': 95, '數學': 65, '社會': 78, '自然': 69},\n",
       " {'國文': 62, '英文': 86, '數學': 61, '社會': 76, '自然': 72},\n",
       " {'國文': 99, '英文': 67, '數學': 62, '社會': 60, '自然': 83},\n",
       " {'國文': 69, '英文': 96, '數學': 77, '社會': 84, '自然': 81},\n",
       " {'國文': 64, '英文': 78, '數學': 66, '社會': 100, '自然': 91},\n",
       " {'國文': 86, '英文': 86, '數學': 82, '社會': 68, '自然': 81},\n",
       " {'國文': 66, '英文': 93, '數學': 71, '社會': 60, '自然': 89},\n",
       " {'國文': 80, '英文': 61, '數學': 92, '社會': 70, '自然': 86},\n",
       " {'國文': 90, '英文': 93, '數學': 94, '社會': 62, '自然': 89},\n",
       " {'國文': 79, '英文': 83, '數學': 93, '社會': 93, '自然': 88},\n",
       " {'國文': 67, '英文': 61, '數學': 90, '社會': 73, '自然': 74},\n",
       " {'國文': 62, '英文': 89, '數學': 72, '社會': 75, '自然': 70},\n",
       " {'國文': 79, '英文': 100, '數學': 79, '社會': 62, '自然': 63},\n",
       " {'國文': 62, '英文': 99, '數學': 77, '社會': 100, '自然': 88},\n",
       " {'國文': 97, '英文': 99, '數學': 85, '社會': 86, '自然': 80},\n",
       " {'國文': 96, '英文': 66, '數學': 75, '社會': 66, '自然': 78},\n",
       " {'國文': 69, '英文': 87, '數學': 64, '社會': 79, '自然': 87},\n",
       " {'國文': 60, '英文': 80, '數學': 75, '社會': 99, '自然': 83},\n",
       " {'國文': 95, '英文': 68, '數學': 87, '社會': 63, '自然': 84},\n",
       " {'國文': 88, '英文': 76, '數學': 76, '社會': 78, '自然': 97},\n",
       " {'國文': 61, '英文': 75, '數學': 77, '社會': 85, '自然': 66},\n",
       " {'國文': 94, '英文': 97, '數學': 96, '社會': 89, '自然': 97},\n",
       " {'國文': 73, '英文': 93, '數學': 60, '社會': 80, '自然': 90},\n",
       " {'國文': 61, '英文': 79, '數學': 90, '社會': 73, '自然': 80},\n",
       " {'國文': 79, '英文': 100, '數學': 61, '社會': 68, '自然': 75},\n",
       " {'國文': 80, '英文': 76, '數學': 79, '社會': 93, '自然': 72},\n",
       " {'國文': 92, '英文': 75, '數學': 81, '社會': 71, '自然': 72},\n",
       " {'國文': 82, '英文': 87, '數學': 98, '社會': 68, '自然': 78},\n",
       " {'國文': 94, '英文': 98, '數學': 97, '社會': 66, '自然': 61},\n",
       " {'國文': 82, '英文': 75, '數學': 91, '社會': 73, '自然': 95},\n",
       " {'國文': 77, '英文': 83, '數學': 67, '社會': 75, '自然': 80},\n",
       " {'國文': 69, '英文': 94, '數學': 85, '社會': 64, '自然': 69},\n",
       " {'國文': 89, '英文': 85, '數學': 62, '社會': 79, '自然': 93},\n",
       " {'國文': 66, '英文': 93, '數學': 95, '社會': 76, '自然': 70},\n",
       " {'國文': 67, '英文': 60, '數學': 80, '社會': 80, '自然': 85},\n",
       " {'國文': 75, '英文': 90, '數學': 91, '社會': 60, '自然': 65},\n",
       " {'國文': 86, '英文': 100, '數學': 72, '社會': 68, '自然': 90},\n",
       " {'國文': 83, '英文': 98, '數學': 66, '社會': 70, '自然': 70},\n",
       " {'國文': 69, '英文': 77, '數學': 70, '社會': 79, '自然': 84},\n",
       " {'國文': 93, '英文': 68, '數學': 99, '社會': 100, '自然': 66},\n",
       " {'國文': 82, '英文': 82, '數學': 78, '社會': 65, '自然': 65}]"
      ]
     },
     "execution_count": 26,
     "metadata": {},
     "output_type": "execute_result"
    }
   ],
   "source": [
    "#list中包含Dictionary\n",
    "import random\n",
    "\n",
    "students = []\n",
    "for _ in range(50):\n",
    "    scores = dict()\n",
    "    #同上一行 scores = {}\n",
    "        subjects = ['國文','英文','數學','社會','自然']\n",
    "    for subject in subjects:\n",
    "        scores[subject] = random.randint(60,100)\n",
    "    students.append(scores)\n",
    "students"
   ]
  },
  {
   "cell_type": "code",
   "execution_count": null,
   "id": "ea1fa2e7",
   "metadata": {},
   "outputs": [],
   "source": []
  }
 ],
 "metadata": {
  "kernelspec": {
   "display_name": "Python 3 (ipykernel)",
   "language": "python",
   "name": "python3"
  },
  "language_info": {
   "codemirror_mode": {
    "name": "ipython",
    "version": 3
   },
   "file_extension": ".py",
   "mimetype": "text/x-python",
   "name": "python",
   "nbconvert_exporter": "python",
   "pygments_lexer": "ipython3",
   "version": "3.8.7"
  }
 },
 "nbformat": 4,
 "nbformat_minor": 5
}
